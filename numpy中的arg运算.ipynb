{
 "cells": [
  {
   "cell_type": "code",
   "execution_count": 1,
   "id": "a729e6df-c4cb-4c6e-bf56-38a590f5ef21",
   "metadata": {},
   "outputs": [],
   "source": [
    "import numpy as np"
   ]
  },
  {
   "cell_type": "markdown",
   "id": "88747867-6519-4b11-baa9-7c2dd61801de",
   "metadata": {},
   "source": [
    "#最大值 最小值"
   ]
  },
  {
   "cell_type": "code",
   "execution_count": 4,
   "id": "25ed7711-25f9-4588-8ae0-81f17cfc8a49",
   "metadata": {},
   "outputs": [
    {
     "data": {
      "text/plain": [
       "array([ 0.43696391, -2.24506272, -0.41854572, ...,  1.7061973 ,\n",
       "        0.08751757,  1.29562688])"
      ]
     },
     "execution_count": 4,
     "metadata": {},
     "output_type": "execute_result"
    }
   ],
   "source": [
    "#随机生成数字\n",
    "x =np.random.normal(0,1,size=1000000)\n",
    "x"
   ]
  },
  {
   "cell_type": "code",
   "execution_count": 7,
   "id": "5ea45c66-7623-45e1-9332-584807c7f088",
   "metadata": {},
   "outputs": [
    {
     "data": {
      "text/plain": [
       "-4.730570549475327"
      ]
     },
     "execution_count": 7,
     "metadata": {},
     "output_type": "execute_result"
    }
   ],
   "source": [
    "#获取随机数字 数组中的最小值\n",
    "np.min(x)"
   ]
  },
  {
   "cell_type": "code",
   "execution_count": 5,
   "id": "93571255-5cc0-4d26-8d93-39c115b5966d",
   "metadata": {},
   "outputs": [
    {
     "data": {
      "text/plain": [
       "423042"
      ]
     },
     "execution_count": 5,
     "metadata": {},
     "output_type": "execute_result"
    }
   ],
   "source": [
    "#获取最小值 所在索引\n",
    "np.argmin(x)"
   ]
  },
  {
   "cell_type": "code",
   "execution_count": 6,
   "id": "ccc0bccb-6336-48f8-a384-5a2393edbaf7",
   "metadata": {},
   "outputs": [
    {
     "data": {
      "text/plain": [
       "-4.730570549475327"
      ]
     },
     "execution_count": 6,
     "metadata": {},
     "output_type": "execute_result"
    }
   ],
   "source": [
    "x[np.argmin(x)]"
   ]
  },
  {
   "cell_type": "code",
   "execution_count": 9,
   "id": "977a7566-6e2b-42b2-a55a-e9df00021978",
   "metadata": {},
   "outputs": [
    {
     "data": {
      "text/plain": [
       "4.582264379748383"
      ]
     },
     "execution_count": 9,
     "metadata": {},
     "output_type": "execute_result"
    }
   ],
   "source": [
    "np.max(x)"
   ]
  },
  {
   "cell_type": "code",
   "execution_count": 10,
   "id": "94e85153-cd3e-413a-a32e-212899650b87",
   "metadata": {},
   "outputs": [
    {
     "data": {
      "text/plain": [
       "4.582264379748383"
      ]
     },
     "execution_count": 10,
     "metadata": {},
     "output_type": "execute_result"
    }
   ],
   "source": [
    "x[np.argmax(x)]"
   ]
  },
  {
   "cell_type": "markdown",
   "id": "8db04cc5-dc98-4e1d-82e3-7762bc7a5a3a",
   "metadata": {},
   "source": [
    "#排序"
   ]
  },
  {
   "cell_type": "code",
   "execution_count": 13,
   "id": "0decae4d-8f97-425b-9487-f4fd1d0a70fe",
   "metadata": {},
   "outputs": [
    {
     "data": {
      "text/plain": [
       "array([0, 1, 2, 3, 4, 5, 6, 7, 8, 9])"
      ]
     },
     "execution_count": 13,
     "metadata": {},
     "output_type": "execute_result"
    }
   ],
   "source": [
    "x=  np.arange(10)\n",
    "x"
   ]
  },
  {
   "cell_type": "code",
   "execution_count": 14,
   "id": "3a9e3697-bf60-4a6a-9c26-7e832fea5db4",
   "metadata": {},
   "outputs": [
    {
     "data": {
      "text/plain": [
       "array([9, 1, 3, 4, 6, 2, 0, 5, 8, 7])"
      ]
     },
     "execution_count": 14,
     "metadata": {},
     "output_type": "execute_result"
    }
   ],
   "source": [
    "np.random.shuffle(x)\n",
    "x"
   ]
  },
  {
   "cell_type": "code",
   "execution_count": 15,
   "id": "fa03ea52-99bd-4769-a779-752d13b7246a",
   "metadata": {},
   "outputs": [],
   "source": [
    "x.sort()"
   ]
  },
  {
   "cell_type": "code",
   "execution_count": 16,
   "id": "d3852c73-f91e-40fa-a89d-212f9a930816",
   "metadata": {},
   "outputs": [
    {
     "data": {
      "text/plain": [
       "array([0, 1, 2, 3, 4, 5, 6, 7, 8, 9])"
      ]
     },
     "execution_count": 16,
     "metadata": {},
     "output_type": "execute_result"
    }
   ],
   "source": [
    "x"
   ]
  },
  {
   "cell_type": "code",
   "execution_count": 19,
   "id": "95e4c5cd-0547-46f2-a770-98da0ad204f5",
   "metadata": {},
   "outputs": [
    {
     "data": {
      "text/plain": [
       "array([9, 8, 7, 6, 5, 4, 3, 2, 1, 0])"
      ]
     },
     "execution_count": 19,
     "metadata": {},
     "output_type": "execute_result"
    }
   ],
   "source": [
    "x[::-1]"
   ]
  },
  {
   "cell_type": "markdown",
   "id": "ff5ade98-e82b-4afb-80f0-b95a2d65d479",
   "metadata": {},
   "source": [
    "#使用索引"
   ]
  },
  {
   "cell_type": "code",
   "execution_count": 21,
   "id": "ec15988a-bff4-4e8e-ab49-29c326485c35",
   "metadata": {},
   "outputs": [
    {
     "data": {
      "text/plain": [
       "array([2, 4, 9, 3, 1, 8, 5, 7, 0, 6])"
      ]
     },
     "execution_count": 21,
     "metadata": {},
     "output_type": "execute_result"
    }
   ],
   "source": [
    "np.random.shuffle(x)\n",
    "x"
   ]
  },
  {
   "cell_type": "code",
   "execution_count": 22,
   "id": "8ec27d0b-be64-4b19-b37f-70a9bd1b0688",
   "metadata": {},
   "outputs": [
    {
     "data": {
      "text/plain": [
       "array([8, 4, 0, 3, 1, 6, 9, 7, 5, 2], dtype=int64)"
      ]
     },
     "execution_count": 22,
     "metadata": {},
     "output_type": "execute_result"
    }
   ],
   "source": [
    "#排序，但是把之前的索引 进行排序\n",
    "np.argsort(x)"
   ]
  },
  {
   "cell_type": "markdown",
   "id": "8c305a83-a778-4867-b86f-aa6bca815ec2",
   "metadata": {},
   "source": [
    "#分区"
   ]
  },
  {
   "cell_type": "code",
   "execution_count": 23,
   "id": "a74a8780-ed63-4184-98ff-018ef4eaca93",
   "metadata": {},
   "outputs": [
    {
     "data": {
      "text/plain": [
       "array([0, 1, 2, 4, 3, 5, 8, 7, 9, 6])"
      ]
     },
     "execution_count": 23,
     "metadata": {},
     "output_type": "execute_result"
    }
   ],
   "source": [
    "#以5为界 左右分开\n",
    "np.partition(x,5)"
   ]
  },
  {
   "cell_type": "code",
   "execution_count": 24,
   "id": "e5a77072-50f9-4021-87af-d7158aab73c7",
   "metadata": {},
   "outputs": [
    {
     "data": {
      "text/plain": [
       "array([8, 4, 0, 1, 3, 6, 5, 7, 2, 9], dtype=int64)"
      ]
     },
     "execution_count": 24,
     "metadata": {},
     "output_type": "execute_result"
    }
   ],
   "source": [
    "#以5为界 左右分开 显示的索引\n",
    "np.argpartition(x,5)"
   ]
  },
  {
   "cell_type": "markdown",
   "id": "bb64bcf9-c199-4650-8ba5-dcd88da3f522",
   "metadata": {},
   "source": [
    "#高维情况"
   ]
  },
  {
   "cell_type": "code",
   "execution_count": 25,
   "id": "2ab70caa-2f3f-492d-a9b1-88bace6983d2",
   "metadata": {},
   "outputs": [
    {
     "data": {
      "text/plain": [
       "array([[0, 3, 5, 9, 5],\n",
       "       [4, 8, 9, 3, 2],\n",
       "       [2, 5, 6, 7, 0],\n",
       "       [8, 6, 5, 1, 5],\n",
       "       [7, 7, 8, 9, 2]])"
      ]
     },
     "execution_count": 25,
     "metadata": {},
     "output_type": "execute_result"
    }
   ],
   "source": [
    "X= np.random.randint(10,size=(5,5))\n",
    "X"
   ]
  },
  {
   "cell_type": "code",
   "execution_count": 26,
   "id": "d90830ff-3b51-43af-b6ae-5cfd0b52b7e9",
   "metadata": {},
   "outputs": [
    {
     "data": {
      "text/plain": [
       "array([[0, 3, 5, 5, 9],\n",
       "       [2, 3, 4, 8, 9],\n",
       "       [0, 2, 5, 6, 7],\n",
       "       [1, 5, 5, 6, 8],\n",
       "       [2, 7, 7, 8, 9]])"
      ]
     },
     "execution_count": 26,
     "metadata": {},
     "output_type": "execute_result"
    }
   ],
   "source": [
    "np.sort(X)"
   ]
  },
  {
   "cell_type": "code",
   "execution_count": 27,
   "id": "82f11d18-9924-4293-acba-ff78dc939cf8",
   "metadata": {},
   "outputs": [
    {
     "data": {
      "text/plain": [
       "array([[0, 1, 2, 4, 3],\n",
       "       [4, 3, 0, 1, 2],\n",
       "       [4, 0, 1, 2, 3],\n",
       "       [3, 2, 4, 1, 0],\n",
       "       [4, 0, 1, 2, 3]], dtype=int64)"
      ]
     },
     "execution_count": 27,
     "metadata": {},
     "output_type": "execute_result"
    }
   ],
   "source": [
    "np.argsort(X,axis=1)"
   ]
  },
  {
   "cell_type": "code",
   "execution_count": 28,
   "id": "7982557a-2775-4bbf-954d-ef64317f5d8a",
   "metadata": {},
   "outputs": [
    {
     "data": {
      "text/plain": [
       "array([[0, 3, 5, 9, 5],\n",
       "       [2, 3, 4, 8, 9],\n",
       "       [0, 2, 5, 7, 6],\n",
       "       [1, 5, 5, 8, 6],\n",
       "       [2, 7, 7, 9, 8]])"
      ]
     },
     "execution_count": 28,
     "metadata": {},
     "output_type": "execute_result"
    }
   ],
   "source": [
    "np.partition(X,2,axis=1)"
   ]
  },
  {
   "cell_type": "code",
   "execution_count": null,
   "id": "fb8a5091-3fd2-4070-bbf4-d7eb090e83db",
   "metadata": {},
   "outputs": [],
   "source": []
  }
 ],
 "metadata": {
  "kernelspec": {
   "display_name": "Python 3 (ipykernel)",
   "language": "python",
   "name": "python3"
  },
  "language_info": {
   "codemirror_mode": {
    "name": "ipython",
    "version": 3
   },
   "file_extension": ".py",
   "mimetype": "text/x-python",
   "name": "python",
   "nbconvert_exporter": "python",
   "pygments_lexer": "ipython3",
   "version": "3.11.7"
  }
 },
 "nbformat": 4,
 "nbformat_minor": 5
}
