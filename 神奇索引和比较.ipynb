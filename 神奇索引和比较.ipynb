{
 "cells": [
  {
   "cell_type": "code",
   "execution_count": 3,
   "id": "9fe03a30-0e23-456b-b743-8256b1d1a1f9",
   "metadata": {},
   "outputs": [],
   "source": [
    "import numpy as np"
   ]
  },
  {
   "cell_type": "code",
   "execution_count": 6,
   "id": "0d23a345-d5f0-4034-a3df-1050df8f4fe4",
   "metadata": {},
   "outputs": [
    {
     "data": {
      "text/plain": [
       "array([0, 1, 2, 3, 4, 5, 6, 7, 8, 9])"
      ]
     },
     "execution_count": 6,
     "metadata": {},
     "output_type": "execute_result"
    }
   ],
   "source": [
    "x = np.arange(10)\n",
    "x"
   ]
  },
  {
   "cell_type": "code",
   "execution_count": 7,
   "id": "0d7333e9-c495-47f6-af2d-85dd5c4952b7",
   "metadata": {},
   "outputs": [
    {
     "data": {
      "text/plain": [
       "array([2, 3, 4, 5, 6, 7])"
      ]
     },
     "execution_count": 7,
     "metadata": {},
     "output_type": "execute_result"
    }
   ],
   "source": [
    "x[2:8]"
   ]
  },
  {
   "cell_type": "code",
   "execution_count": 8,
   "id": "9f3d6d55-95d7-4d58-b592-185c7c7dba33",
   "metadata": {},
   "outputs": [
    {
     "data": {
      "text/plain": [
       "array([2, 4, 6])"
      ]
     },
     "execution_count": 8,
     "metadata": {},
     "output_type": "execute_result"
    }
   ],
   "source": [
    "x[2:8:2]"
   ]
  },
  {
   "cell_type": "code",
   "execution_count": 9,
   "id": "362d0ee5-ddd2-4749-975b-0224e8b1c3ee",
   "metadata": {},
   "outputs": [
    {
     "data": {
      "text/plain": [
       "[2, 5, 8]"
      ]
     },
     "execution_count": 9,
     "metadata": {},
     "output_type": "execute_result"
    }
   ],
   "source": [
    "[x[2],x[5],x[8]]"
   ]
  },
  {
   "cell_type": "code",
   "execution_count": 10,
   "id": "c7111378-db9f-4e9a-9e38-f0b42f86056a",
   "metadata": {},
   "outputs": [
    {
     "data": {
      "text/plain": [
       "array([2, 5, 8])"
      ]
     },
     "execution_count": 10,
     "metadata": {},
     "output_type": "execute_result"
    }
   ],
   "source": [
    "index = [2,5,8]\n",
    "x[index]"
   ]
  },
  {
   "cell_type": "code",
   "execution_count": 12,
   "id": "b258bbd6-236f-4816-ac2e-80aa9b8ded8a",
   "metadata": {},
   "outputs": [
    {
     "data": {
      "text/plain": [
       "array([[1, 3, 5],\n",
       "       [2, 4, 6]])"
      ]
     },
     "execution_count": 12,
     "metadata": {},
     "output_type": "execute_result"
    }
   ],
   "source": [
    "index = np.array([[1,3,5],[2,4,6]])\n",
    "x[index]"
   ]
  },
  {
   "cell_type": "markdown",
   "id": "225424a3-829f-472c-bcba-ea3a9a7e36d4",
   "metadata": {},
   "source": [
    "#索引 用于 二维数组"
   ]
  },
  {
   "cell_type": "code",
   "execution_count": 17,
   "id": "71d0eaba-09be-4213-960f-47877066f081",
   "metadata": {},
   "outputs": [
    {
     "data": {
      "text/plain": [
       "array([[0, 1, 2, 3, 4],\n",
       "       [5, 6, 7, 8, 9]])"
      ]
     },
     "execution_count": 17,
     "metadata": {},
     "output_type": "execute_result"
    }
   ],
   "source": [
    "X = x.reshape(2,-1)\n",
    "X"
   ]
  },
  {
   "cell_type": "code",
   "execution_count": 16,
   "id": "19063163-6a3e-4500-b2d6-703d9e1759d4",
   "metadata": {},
   "outputs": [
    {
     "data": {
      "text/plain": [
       "array([0, 7, 4])"
      ]
     },
     "execution_count": 16,
     "metadata": {},
     "output_type": "execute_result"
    }
   ],
   "source": [
    "#X[row,col] =>  \n",
    "#X[0,0] =>X[0] \n",
    "#X[1,2]=>第二行第三列=>X[7]\n",
    "#X[0,4]=>X[4]\n",
    "\n",
    "row = np.array([0,1,0])\n",
    "col = np.array([0,2,4])\n",
    "X[row,col]"
   ]
  },
  {
   "cell_type": "code",
   "execution_count": 19,
   "id": "6b9728e9-ad50-48cc-83de-6d4497778fc1",
   "metadata": {},
   "outputs": [
    {
     "data": {
      "text/plain": [
       "array([0, 2, 4])"
      ]
     },
     "execution_count": 19,
     "metadata": {},
     "output_type": "execute_result"
    }
   ],
   "source": [
    "X[0,col]"
   ]
  },
  {
   "cell_type": "code",
   "execution_count": 20,
   "id": "f323dd73-678d-4104-a198-2c3c224fb097",
   "metadata": {},
   "outputs": [
    {
     "data": {
      "text/plain": [
       "array([[0, 1],\n",
       "       [5, 6],\n",
       "       [0, 1]])"
      ]
     },
     "execution_count": 20,
     "metadata": {},
     "output_type": "execute_result"
    }
   ],
   "source": [
    "X[row,:2]"
   ]
  },
  {
   "cell_type": "code",
   "execution_count": 21,
   "id": "5b4bce04-e190-4d25-b6a2-647b8776d09b",
   "metadata": {},
   "outputs": [
    {
     "data": {
      "text/plain": [
       "array([0, 2, 4])"
      ]
     },
     "execution_count": 21,
     "metadata": {},
     "output_type": "execute_result"
    }
   ],
   "source": [
    "col =[True,False,True,False,True]\n",
    "X[0,col]"
   ]
  },
  {
   "cell_type": "markdown",
   "id": "798d61b5-fda3-4630-8888-a2de1983be30",
   "metadata": {},
   "source": [
    "#比较"
   ]
  },
  {
   "cell_type": "code",
   "execution_count": 22,
   "id": "37cb8c8b-65f9-44cc-a318-ad4b3742abeb",
   "metadata": {},
   "outputs": [
    {
     "data": {
      "text/plain": [
       "array([0, 1, 2, 3, 4, 5, 6, 7, 8, 9])"
      ]
     },
     "execution_count": 22,
     "metadata": {},
     "output_type": "execute_result"
    }
   ],
   "source": [
    "x"
   ]
  },
  {
   "cell_type": "code",
   "execution_count": 23,
   "id": "5e0de971-9f21-4724-afef-8625a8dd15c2",
   "metadata": {},
   "outputs": [
    {
     "data": {
      "text/plain": [
       "array([ True,  True,  True,  True,  True, False, False, False, False,\n",
       "       False])"
      ]
     },
     "execution_count": 23,
     "metadata": {},
     "output_type": "execute_result"
    }
   ],
   "source": [
    "x < 5"
   ]
  },
  {
   "cell_type": "code",
   "execution_count": 24,
   "id": "9a972320-cf00-4296-b012-aa3baaa861d7",
   "metadata": {},
   "outputs": [
    {
     "data": {
      "text/plain": [
       "array([False, False,  True,  True,  True,  True,  True,  True,  True,\n",
       "        True])"
      ]
     },
     "execution_count": 24,
     "metadata": {},
     "output_type": "execute_result"
    }
   ],
   "source": [
    "x >=2"
   ]
  },
  {
   "cell_type": "code",
   "execution_count": 25,
   "id": "46a10d0a-d9ae-43da-8e51-f1b90cd2daf4",
   "metadata": {},
   "outputs": [
    {
     "data": {
      "text/plain": [
       "array([False, False, False,  True, False, False, False, False, False,\n",
       "       False])"
      ]
     },
     "execution_count": 25,
     "metadata": {},
     "output_type": "execute_result"
    }
   ],
   "source": [
    "x ==3"
   ]
  },
  {
   "cell_type": "code",
   "execution_count": 26,
   "id": "865965cd-fd9a-4978-a2ed-4dbb18a30880",
   "metadata": {},
   "outputs": [
    {
     "data": {
      "text/plain": [
       "array([ True,  True,  True, False,  True,  True,  True,  True,  True,\n",
       "        True])"
      ]
     },
     "execution_count": 26,
     "metadata": {},
     "output_type": "execute_result"
    }
   ],
   "source": [
    "x != 3"
   ]
  },
  {
   "cell_type": "code",
   "execution_count": 27,
   "id": "36088def-f299-42ef-973f-09665e3be5c0",
   "metadata": {},
   "outputs": [
    {
     "data": {
      "text/plain": [
       "array([False, False, False,  True, False, False, False, False, False,\n",
       "       False])"
      ]
     },
     "execution_count": 27,
     "metadata": {},
     "output_type": "execute_result"
    }
   ],
   "source": [
    "x * x ==9"
   ]
  },
  {
   "cell_type": "code",
   "execution_count": 28,
   "id": "fda8825b-63fb-4404-86e3-b043ef1a0ea6",
   "metadata": {},
   "outputs": [
    {
     "data": {
      "text/plain": [
       "array([[False, False,  True,  True,  True],\n",
       "       [ True,  True,  True,  True,  True]])"
      ]
     },
     "execution_count": 28,
     "metadata": {},
     "output_type": "execute_result"
    }
   ],
   "source": [
    " X>1"
   ]
  },
  {
   "cell_type": "markdown",
   "id": "b5b00847-c76e-4dab-a236-a471f2f54018",
   "metadata": {},
   "source": [
    "#比较结果和 索引的使用"
   ]
  },
  {
   "cell_type": "code",
   "execution_count": 29,
   "id": "5a9337d9-c3d7-4e84-88de-e0a5201e0adf",
   "metadata": {},
   "outputs": [
    {
     "data": {
      "text/plain": [
       "array([4, 5, 6, 7, 8, 9])"
      ]
     },
     "execution_count": 29,
     "metadata": {},
     "output_type": "execute_result"
    }
   ],
   "source": [
    "x[x>3]"
   ]
  },
  {
   "cell_type": "code",
   "execution_count": 30,
   "id": "869282e8-9e73-404a-b86a-2a2957cf6e86",
   "metadata": {},
   "outputs": [
    {
     "data": {
      "text/plain": [
       "array([0, 2, 4, 6, 8])"
      ]
     },
     "execution_count": 30,
     "metadata": {},
     "output_type": "execute_result"
    }
   ],
   "source": [
    "x[x%2 == 0]"
   ]
  },
  {
   "cell_type": "markdown",
   "id": "f9b0a79b-2e4a-46ce-b437-59c98590b1bf",
   "metadata": {},
   "source": [
    "#比较的更多应用"
   ]
  },
  {
   "cell_type": "code",
   "execution_count": 31,
   "id": "b2fdd12c-ddb1-47e0-8b92-3bd15930ce9b",
   "metadata": {},
   "outputs": [
    {
     "data": {
      "text/plain": [
       "array([0, 1, 2, 3, 4, 5, 6, 7, 8, 9])"
      ]
     },
     "execution_count": 31,
     "metadata": {},
     "output_type": "execute_result"
    }
   ],
   "source": [
    "x"
   ]
  },
  {
   "cell_type": "code",
   "execution_count": 32,
   "id": "a6afe60d-808b-4bfe-889f-398295158cbd",
   "metadata": {},
   "outputs": [
    {
     "data": {
      "text/plain": [
       "5"
      ]
     },
     "execution_count": 32,
     "metadata": {},
     "output_type": "execute_result"
    }
   ],
   "source": [
    "#对 数组中非0的项目\n",
    "np.count_nonzero(x<5)"
   ]
  },
  {
   "cell_type": "code",
   "execution_count": 33,
   "id": "bbd15f97-7f62-45d6-8353-24b431144926",
   "metadata": {},
   "outputs": [
    {
     "data": {
      "text/plain": [
       "array([ True,  True,  True,  True,  True, False, False, False, False,\n",
       "       False])"
      ]
     },
     "execution_count": 33,
     "metadata": {},
     "output_type": "execute_result"
    }
   ],
   "source": [
    "x<5"
   ]
  },
  {
   "cell_type": "code",
   "execution_count": 34,
   "id": "fbd42401-0036-4597-9e10-594ad107e6f4",
   "metadata": {},
   "outputs": [
    {
     "data": {
      "text/plain": [
       "5"
      ]
     },
     "execution_count": 34,
     "metadata": {},
     "output_type": "execute_result"
    }
   ],
   "source": [
    "np.sum(x<5)"
   ]
  },
  {
   "cell_type": "code",
   "execution_count": 35,
   "id": "8b433b63-21ee-4218-af39-bb6cd132fff7",
   "metadata": {},
   "outputs": [
    {
     "data": {
      "text/plain": [
       "False"
      ]
     },
     "execution_count": 35,
     "metadata": {},
     "output_type": "execute_result"
    }
   ],
   "source": [
    "np.any(x<0)"
   ]
  },
  {
   "cell_type": "code",
   "execution_count": 36,
   "id": "2732ad71-ccbe-45c9-b249-ade8e12d8a10",
   "metadata": {},
   "outputs": [
    {
     "data": {
      "text/plain": [
       "True"
      ]
     },
     "execution_count": 36,
     "metadata": {},
     "output_type": "execute_result"
    }
   ],
   "source": [
    "np.any(x>5)"
   ]
  },
  {
   "cell_type": "code",
   "execution_count": 37,
   "id": "f4db2098-34f8-4304-a88a-5f342134e70e",
   "metadata": {},
   "outputs": [
    {
     "data": {
      "text/plain": [
       "False"
      ]
     },
     "execution_count": 37,
     "metadata": {},
     "output_type": "execute_result"
    }
   ],
   "source": [
    "np.all(x>9)"
   ]
  },
  {
   "cell_type": "code",
   "execution_count": 38,
   "id": "e2892e5a-5d52-4dcd-8a05-38650ace1399",
   "metadata": {},
   "outputs": [
    {
     "data": {
      "text/plain": [
       "array([[0, 1, 2, 3, 4],\n",
       "       [5, 6, 7, 8, 9]])"
      ]
     },
     "execution_count": 38,
     "metadata": {},
     "output_type": "execute_result"
    }
   ],
   "source": [
    "X"
   ]
  },
  {
   "cell_type": "code",
   "execution_count": null,
   "id": "4919aed7-52dc-4566-8b80-05b5c964b463",
   "metadata": {},
   "outputs": [],
   "source": []
  }
 ],
 "metadata": {
  "kernelspec": {
   "display_name": "Python 3 (ipykernel)",
   "language": "python",
   "name": "python3"
  },
  "language_info": {
   "codemirror_mode": {
    "name": "ipython",
    "version": 3
   },
   "file_extension": ".py",
   "mimetype": "text/x-python",
   "name": "python",
   "nbconvert_exporter": "python",
   "pygments_lexer": "ipython3",
   "version": "3.11.7"
  }
 },
 "nbformat": 4,
 "nbformat_minor": 5
}
