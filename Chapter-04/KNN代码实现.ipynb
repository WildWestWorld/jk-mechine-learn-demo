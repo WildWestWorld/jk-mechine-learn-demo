{
 "cells": [
  {
   "cell_type": "code",
   "execution_count": 2,
   "id": "e5ebdb93-3318-420a-b5ed-b5e2fc21fc72",
   "metadata": {},
   "outputs": [],
   "source": [
    "import numpy as np\n",
    "import matplotlib.pyplot as plt"
   ]
  },
  {
   "cell_type": "code",
   "execution_count": 3,
   "id": "c5645b5f-0661-4095-9a69-205822c07210",
   "metadata": {},
   "outputs": [],
   "source": [
    "    data_X = [\n",
    "         [1.3, 6],\n",
    "         [3.5, 5],\n",
    "         [4.2, 2],\n",
    "         [5, 3.3],\n",
    "         [2, 9],\n",
    "         [5, 7.5],\n",
    "         [7.2, 4 ],\n",
    "         [8.1, 8],\n",
    "         [9, 2.5]\n",
    "    ]"
   ]
  },
  {
   "cell_type": "code",
   "execution_count": 4,
   "id": "56cd6b19-ef05-4f57-87ac-65cdc42d26ed",
   "metadata": {},
   "outputs": [],
   "source": [
    "data_y = [0,0,0,0,1,1,1,1,1]"
   ]
  },
  {
   "cell_type": "code",
   "execution_count": 5,
   "id": "d1f560fb-2ff6-4ce2-924a-17fe50dc8d91",
   "metadata": {},
   "outputs": [],
   "source": [
    "X_train = np.array(data_X)\n",
    "y_train = np.array(data_y)"
   ]
  },
  {
   "cell_type": "code",
   "execution_count": 6,
   "id": "cc9ab3be-ffab-4bf8-bbf1-984c7d2d32a4",
   "metadata": {},
   "outputs": [
    {
     "data": {
      "text/plain": [
       "array([ True,  True,  True,  True, False, False, False, False, False])"
      ]
     },
     "execution_count": 6,
     "metadata": {},
     "output_type": "execute_result"
    }
   ],
   "source": [
    "y_train == 0"
   ]
  },
  {
   "cell_type": "code",
   "execution_count": 7,
   "id": "419e6725-c646-4d53-acb1-be1475dfe251",
   "metadata": {},
   "outputs": [
    {
     "data": {
      "text/plain": [
       "array([[1.3, 6. ],\n",
       "       [3.5, 5. ],\n",
       "       [4.2, 2. ],\n",
       "       [5. , 3.3]])"
      ]
     },
     "execution_count": 7,
     "metadata": {},
     "output_type": "execute_result"
    }
   ],
   "source": [
    "X_train[y_train ==0]"
   ]
  },
  {
   "cell_type": "code",
   "execution_count": 8,
   "id": "0404faa5-5ec9-487c-9dae-94bc1ec04058",
   "metadata": {},
   "outputs": [
    {
     "data": {
      "image/png": "[encoded data removed]",
      "text/plain": [
       "<Figure size 640x480 with 1 Axes>"
      ]
     },
     "metadata": {},
     "output_type": "display_data"
    }
   ],
   "source": [
    "plt.scatter(X_train[y_train==0,0], X_train[y_train==0,1], color='red', marker='x')\n",
    "plt.scatter(X_train[y_train==1,0],X_train[y_train==1,1],color='black', marker='o')\n",
    "plt.show()"
   ]
  },
  {
   "cell_type": "code",
   "execution_count": 38,
   "id": "1d1e9283-76cc-44a3-a785-66559095fe6a",
   "metadata": {},
   "outputs": [
    {
     "data": {
      "text/plain": [
       "array([4, 5])"
      ]
     },
     "execution_count": 38,
     "metadata": {},
     "output_type": "execute_result"
    }
   ],
   "source": [
    "data_new = np.array([4,5])\n",
    "data_new"
   ]
  },
  {
   "cell_type": "code",
   "execution_count": 10,
   "id": "f7dd26be-6796-4961-95c8-b98ce8de2a64",
   "metadata": {},
   "outputs": [
    {
     "data": {
      "image/png": "[encoded data removed]",
      "text/plain": [
       "<Figure size 640x480 with 1 Axes>"
      ]
     },
     "metadata": {},
     "output_type": "display_data"
    }
   ],
   "source": [
    "plt.scatter(X_train[y_train==0,0], X_train[y_train==0,1], color='red', marker='x')\n",
    "plt.scatter(X_train[y_train==1,0],X_train[y_train==1,1],color='black', marker='o')\n",
    "plt.scatter(data_new[0], data_new[1],color='b', marker='^')\n",
    "plt.show()"
   ]
  },
  {
   "cell_type": "markdown",
   "id": "e3d846f4-a8fb-4ed9-bc08-cc019335adf9",
   "metadata": {},
   "source": [
    "1.计算新样本与已知样本的距离"
   ]
  },
  {
   "cell_type": "code",
   "execution_count": 11,
   "id": "4b2d5862-d1a9-4d01-a706-cd8dbb3775fd",
   "metadata": {},
   "outputs": [
    {
     "name": "stdout",
     "output_type": "stream",
     "text": [
      "2.879236009777594\n",
      "0.5\n",
      "3.006659275674582\n",
      "1.9723082923316022\n",
      "4.47213595499958\n",
      "2.692582403567252\n",
      "3.3526109228480423\n",
      "5.080354318352215\n",
      "5.5901699437494745\n"
     ]
    }
   ],
   "source": [
    "for data in X_train:\n",
    "    #new data 就是在上面定义的[4,5]\n",
    "    #data 就是X_train里面每一个点\n",
    "    #(data-data_new) 两个向量相减 平方 求和，然后开方就得到了距离\n",
    "    print(np.sqrt(np.sum((data-data_new)**2)))"
   ]
  },
  {
   "cell_type": "code",
   "execution_count": 12,
   "id": "36644ec6-5343-421a-b2ad-b3502a6e0844",
   "metadata": {},
   "outputs": [
    {
     "data": {
      "text/plain": [
       "[2.879236009777594,\n",
       " 0.5,\n",
       " 3.006659275674582,\n",
       " 1.9723082923316022,\n",
       " 4.47213595499958,\n",
       " 2.692582403567252,\n",
       " 3.3526109228480423,\n",
       " 5.080354318352215,\n",
       " 5.5901699437494745]"
      ]
     },
     "execution_count": 12,
     "metadata": {},
     "output_type": "execute_result"
    }
   ],
   "source": [
    "distances = [np.sqrt(np.sum((data - data_new)**2)) for data in X_train]\n",
    "distances"
   ]
  },
  {
   "cell_type": "markdown",
   "id": "206e4812-c226-468f-a1cc-504ee19e7965",
   "metadata": {},
   "source": [
    "2. 按距离排序"
   ]
  },
  {
   "cell_type": "code",
   "execution_count": 13,
   "id": "b102049c-c415-401a-b3f8-aff87d0802cc",
   "metadata": {},
   "outputs": [
    {
     "data": {
      "text/plain": [
       "array([0.5       , 1.97230829, 2.6925824 , 2.87923601, 3.00665928,\n",
       "       3.35261092, 4.47213595, 5.08035432, 5.59016994])"
      ]
     },
     "execution_count": 13,
     "metadata": {},
     "output_type": "execute_result"
    }
   ],
   "source": [
    "np.sort(distances)"
   ]
  },
  {
   "cell_type": "code",
   "execution_count": 15,
   "id": "1264e7f2-98ad-4ce5-9082-f8a57d3ff434",
   "metadata": {},
   "outputs": [
    {
     "data": {
      "text/plain": [
       "array([1, 3, 5, 0, 2, 6, 4, 7, 8], dtype=int64)"
      ]
     },
     "execution_count": 15,
     "metadata": {},
     "output_type": "execute_result"
    }
   ],
   "source": [
    "sort_index = np.argsort(distances)\n",
    "sort_index"
   ]
  },
  {
   "cell_type": "markdown",
   "id": "4a0b4064-74be-4fd5-9b36-f2143638fc57",
   "metadata": {},
   "source": [
    "3. 确定k值"
   ]
  },
  {
   "cell_type": "code",
   "execution_count": 19,
   "id": "09695502-7a95-4a7e-b113-398a548bd442",
   "metadata": {},
   "outputs": [],
   "source": [
    "k =5"
   ]
  },
  {
   "cell_type": "markdown",
   "id": "77d155dc-c289-4c70-80d1-6b723ac343d4",
   "metadata": {},
   "source": [
    "4. 距离最近的k个点投票"
   ]
  },
  {
   "cell_type": "code",
   "execution_count": 22,
   "id": "915aa176-9865-4c1a-9003-0c029c728199",
   "metadata": {},
   "outputs": [
    {
     "data": {
      "text/plain": [
       "[0, 0, 1, 0, 0]"
      ]
     },
     "execution_count": 22,
     "metadata": {},
     "output_type": "execute_result"
    }
   ],
   "source": [
    "#拿到排序后的index 数列  然后 用index 拿到对应的 类别\n",
    "first_k =  [y_train[i] for i in sort_index[0:k]]\n",
    "first_k"
   ]
  },
  {
   "cell_type": "code",
   "execution_count": 25,
   "id": "add89cd4-1080-42b5-91b7-340357742b83",
   "metadata": {},
   "outputs": [
    {
     "data": {
      "text/plain": [
       "Counter({0: 4, 1: 1})"
      ]
     },
     "execution_count": 25,
     "metadata": {},
     "output_type": "execute_result"
    }
   ],
   "source": [
    "#使用Count 进行计数\n",
    "from collections import Counter \n",
    "#对数列元素  自动 计数\n",
    "Counter(first_k)"
   ]
  },
  {
   "cell_type": "code",
   "execution_count": 26,
   "id": "dcfff824-0bd4-4713-b511-2b9d30e9365f",
   "metadata": {},
   "outputs": [
    {
     "data": {
      "text/plain": [
       "[(0, 4), (1, 1)]"
      ]
     },
     "execution_count": 26,
     "metadata": {},
     "output_type": "execute_result"
    }
   ],
   "source": [
    "#数列转成元组\n",
    "Counter(first_k).most_common()"
   ]
  },
  {
   "cell_type": "code",
   "execution_count": 28,
   "id": "06aca8e4-cb06-4f15-9ba4-275d1df19868",
   "metadata": {},
   "outputs": [
    {
     "data": {
      "text/plain": [
       "[(0, 4)]"
      ]
     },
     "execution_count": 28,
     "metadata": {},
     "output_type": "execute_result"
    }
   ],
   "source": [
    "#most_common(1) 筛选为最开始的数组\n",
    "Counter(first_k).most_common(1)"
   ]
  },
  {
   "cell_type": "code",
   "execution_count": 29,
   "id": "1e607af8-ebaa-4cb8-a45d-461436506011",
   "metadata": {},
   "outputs": [
    {
     "data": {
      "text/plain": [
       "0"
      ]
     },
     "execution_count": 29,
     "metadata": {},
     "output_type": "execute_result"
    }
   ],
   "source": [
    "#Counter(first_k).most_common(1)=[(0, 4)]\n",
    "#Counter(first_k).most_common(1)[0]=(0, 4)\n",
    "#Counter(first_k).most_common(1)[0][0]=0\n",
    "predict_y  = Counter(first_k).most_common(1)[0][0]\n",
    "predict_y"
   ]
  },
  {
   "cell_type": "markdown",
   "id": "4aade58a-41e1-49b1-8b39-c1655d8ac1ee",
   "metadata": {},
   "source": [
    "# scikit-learn中的KNN算法"
   ]
  },
  {
   "cell_type": "code",
   "execution_count": 31,
   "id": "e2d1d9ce-c842-48fe-8811-d958a5c784b9",
   "metadata": {},
   "outputs": [],
   "source": [
    "from sklearn.neighbors import KNeighborsClassifier"
   ]
  },
  {
   "cell_type": "code",
   "execution_count": 33,
   "id": "9ab15df0-2318-4f73-ba66-5a9e4a425791",
   "metadata": {},
   "outputs": [],
   "source": [
    "kNN_classifier = KNeighborsClassifier(n_neighbors=5)"
   ]
  },
  {
   "cell_type": "code",
   "execution_count": 34,
   "id": "a996f1c2-72b5-4c9b-b0ec-cd7717e7e92f",
   "metadata": {},
   "outputs": [
    {
     "data": {
      "text/html": [
       "<style>#sk-container-id-1 {color: black;background-color: white;}#sk-container-id-1 pre{padding: 0;}#sk-container-id-1 div.sk-toggleable {background-color: white;}#sk-container-id-1 label.sk-toggleable__label {cursor: pointer;display: block;width: 100%;margin-bottom: 0;padding: 0.3em;box-sizing: border-box;text-align: center;}#sk-container-id-1 label.sk-toggleable__label-arrow:before {content: \"▸\";float: left;margin-right: 0.25em;color: #696969;}#sk-container-id-1 label.sk-toggleable__label-arrow:hover:before {color: black;}#sk-container-id-1 div.sk-estimator:hover label.sk-toggleable__label-arrow:before {color: black;}#sk-container-id-1 div.sk-toggleable__content {max-height: 0;max-width: 0;overflow: hidden;text-align: left;background-color: #f0f8ff;}#sk-container-id-1 div.sk-toggleable__content pre {margin: 0.2em;color: black;border-radius: 0.25em;background-color: #f0f8ff;}#sk-container-id-1 input.sk-toggleable__control:checked~div.sk-toggleable__content {max-height: 200px;max-width: 100%;overflow: auto;}#sk-container-id-1 input.sk-toggleable__control:checked~label.sk-toggleable__label-arrow:before {content: \"▾\";}#sk-container-id-1 div.sk-estimator input.sk-toggleable__control:checked~label.sk-toggleable__label {background-color: #d4ebff;}#sk-container-id-1 div.sk-label input.sk-toggleable__control:checked~label.sk-toggleable__label {background-color: #d4ebff;}#sk-container-id-1 input.sk-hidden--visually {border: 0;clip: rect(1px 1px 1px 1px);clip: rect(1px, 1px, 1px, 1px);height: 1px;margin: -1px;overflow: hidden;padding: 0;position: absolute;width: 1px;}#sk-container-id-1 div.sk-estimator {font-family: monospace;background-color: #f0f8ff;border: 1px dotted black;border-radius: 0.25em;box-sizing: border-box;margin-bottom: 0.5em;}#sk-container-id-1 div.sk-estimator:hover {background-color: #d4ebff;}#sk-container-id-1 div.sk-parallel-item::after {content: \"\";width: 100%;border-bottom: 1px solid gray;flex-grow: 1;}#sk-container-id-1 div.sk-label:hover label.sk-toggleable__label {background-color: #d4ebff;}#sk-container-id-1 div.sk-serial::before {content: \"\";position: absolute;border-left: 1px solid gray;box-sizing: border-box;top: 0;bottom: 0;left: 50%;z-index: 0;}#sk-container-id-1 div.sk-serial {display: flex;flex-direction: column;align-items: center;background-color: white;padding-right: 0.2em;padding-left: 0.2em;position: relative;}#sk-container-id-1 div.sk-item {position: relative;z-index: 1;}#sk-container-id-1 div.sk-parallel {display: flex;align-items: stretch;justify-content: center;background-color: white;position: relative;}#sk-container-id-1 div.sk-item::before, #sk-container-id-1 div.sk-parallel-item::before {content: \"\";position: absolute;border-left: 1px solid gray;box-sizing: border-box;top: 0;bottom: 0;left: 50%;z-index: -1;}#sk-container-id-1 div.sk-parallel-item {display: flex;flex-direction: column;z-index: 1;position: relative;background-color: white;}#sk-container-id-1 div.sk-parallel-item:first-child::after {align-self: flex-end;width: 50%;}#sk-container-id-1 div.sk-parallel-item:last-child::after {align-self: flex-start;width: 50%;}#sk-container-id-1 div.sk-parallel-item:only-child::after {width: 0;}#sk-container-id-1 div.sk-dashed-wrapped {border: 1px dashed gray;margin: 0 0.4em 0.5em 0.4em;box-sizing: border-box;padding-bottom: 0.4em;background-color: white;}#sk-container-id-1 div.sk-label label {font-family: monospace;font-weight: bold;display: inline-block;line-height: 1.2em;}#sk-container-id-1 div.sk-label-container {text-align: center;}#sk-container-id-1 div.sk-container {/* jupyter's `normalize.less` sets `[hidden] { display: none; }` but bootstrap.min.css set `[hidden] { display: none !important; }` so we also need the `!important` here to be able to override the default hidden behavior on the sphinx rendered scikit-learn.org. See: https://github.com/scikit-learn/scikit-learn/issues/21755 */display: inline-block !important;position: relative;}#sk-container-id-1 div.sk-text-repr-fallback {display: none;}</style><div id=\"sk-container-id-1\" class=\"sk-top-container\"><div class=\"sk-text-repr-fallback\"><pre>KNeighborsClassifier()</pre><b>In a Jupyter environment, please rerun this cell to show the HTML representation or trust the notebook. <br />On GitHub, the HTML representation is unable to render, please try loading this page with nbviewer.org.</b></div><div class=\"sk-container\" hidden><div class=\"sk-item\"><div class=\"sk-estimator sk-toggleable\"><input class=\"sk-toggleable__control sk-hidden--visually\" id=\"sk-estimator-id-1\" type=\"checkbox\" checked><label for=\"sk-estimator-id-1\" class=\"sk-toggleable__label sk-toggleable__label-arrow\">KNeighborsClassifier</label><div class=\"sk-toggleable__content\"><pre>KNeighborsClassifier()</pre></div></div></div></div></div>"
      ],
      "text/plain": [
       "KNeighborsClassifier()"
      ]
     },
     "execution_count": 34,
     "metadata": {},
     "output_type": "execute_result"
    }
   ],
   "source": [
    "#kNN_classifier.fit(X_train,y_train)"
   ]
  },
  {
   "cell_type": "code",
   "execution_count": 37,
   "id": "e6cc5174-82a0-4660-9083-5f733fb8d063",
   "metadata": {},
   "outputs": [
    {
     "data": {
      "text/plain": [
       "array([[4, 5]])"
      ]
     },
     "execution_count": 37,
     "metadata": {},
     "output_type": "execute_result"
    }
   ],
   "source": [
    "# data_new  array([4, 5])\n",
    "\n",
    "data_new.reshape(1,-1)"
   ]
  },
  {
   "cell_type": "code",
   "execution_count": 39,
   "id": "d08303e1-fe7d-44b4-8ea6-358da5ec23f6",
   "metadata": {},
   "outputs": [
    {
     "data": {
      "text/plain": [
       "array([0])"
      ]
     },
     "execution_count": 39,
     "metadata": {},
     "output_type": "execute_result"
    }
   ],
   "source": [
    "predict_y = kNN_classifier.predict(data_new.reshape(1,-1))\n",
    "predict_y"
   ]
  },
  {
   "cell_type": "code",
   "execution_count": null,
   "id": "12148df1-959f-4b56-8de5-e6f39a0399c8",
   "metadata": {},
   "outputs": [],
   "source": []
  }
 ],
 "metadata": {
  "kernelspec": {
   "display_name": "Python 3 (ipykernel)",
   "language": "python",
   "name": "python3"
  },
  "language_info": {
   "codemirror_mode": {
    "name": "ipython",
    "version": 3
   },
   "file_extension": ".py",
   "mimetype": "text/x-python",
   "name": "python",
   "nbconvert_exporter": "python",
   "pygments_lexer": "ipython3",
   "version": "3.11.7"
  }
 },
 "nbformat": 4,
 "nbformat_minor": 5
}
