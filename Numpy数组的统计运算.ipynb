{
 "cells": [
  {
   "cell_type": "code",
   "execution_count": 1,
   "id": "b3560d07-689e-4e69-82c8-fde8e76e6fa2",
   "metadata": {},
   "outputs": [],
   "source": [
    "import numpy as np"
   ]
  },
  {
   "cell_type": "code",
   "execution_count": 2,
   "id": "5a3ef75e-e531-4513-a934-556a08703036",
   "metadata": {},
   "outputs": [
    {
     "data": {
      "text/plain": [
       "array([       0,        1,        2, ..., 49999997, 49999998, 49999999])"
      ]
     },
     "execution_count": 2,
     "metadata": {},
     "output_type": "execute_result"
    }
   ],
   "source": [
    "X = np.arange(50000000)\n",
    "X"
   ]
  },
  {
   "cell_type": "code",
   "execution_count": 3,
   "id": "429ce28e-96e7-4447-a195-558379787b1c",
   "metadata": {},
   "outputs": [
    {
     "data": {
      "text/plain": [
       "0"
      ]
     },
     "execution_count": 3,
     "metadata": {},
     "output_type": "execute_result"
    }
   ],
   "source": [
    "np.min(X)"
   ]
  },
  {
   "cell_type": "code",
   "execution_count": 4,
   "id": "5c83c813-3c57-4473-9226-2f8935d9e2a8",
   "metadata": {},
   "outputs": [
    {
     "data": {
      "text/plain": [
       "49999999"
      ]
     },
     "execution_count": 4,
     "metadata": {},
     "output_type": "execute_result"
    }
   ],
   "source": [
    "np.max(X)"
   ]
  },
  {
   "cell_type": "code",
   "execution_count": 5,
   "id": "ae53f260-b548-4dcb-8643-4f44aa4ab95d",
   "metadata": {},
   "outputs": [
    {
     "name": "stdout",
     "output_type": "stream",
     "text": [
      "CPU times: total: 1.61 s\n",
      "Wall time: 1.62 s\n"
     ]
    },
    {
     "data": {
      "text/plain": [
       "0"
      ]
     },
     "execution_count": 5,
     "metadata": {},
     "output_type": "execute_result"
    }
   ],
   "source": [
    "%time min(X)"
   ]
  },
  {
   "cell_type": "code",
   "execution_count": 6,
   "id": "40be728a-9bfd-4c53-a5e1-28393126e6b3",
   "metadata": {},
   "outputs": [
    {
     "name": "stdout",
     "output_type": "stream",
     "text": [
      "CPU times: total: 0 ns\n",
      "Wall time: 9 ms\n"
     ]
    },
    {
     "data": {
      "text/plain": [
       "0"
      ]
     },
     "execution_count": 6,
     "metadata": {},
     "output_type": "execute_result"
    }
   ],
   "source": [
    "%time np.min(X)"
   ]
  },
  {
   "cell_type": "code",
   "execution_count": 7,
   "id": "8a8a7263-f115-4ae0-a065-93eb5c38c7cd",
   "metadata": {},
   "outputs": [
    {
     "data": {
      "text/plain": [
       "array([[       0,        1,        2, ...,  9999997,  9999998,  9999999],\n",
       "       [10000000, 10000001, 10000002, ..., 19999997, 19999998, 19999999],\n",
       "       [20000000, 20000001, 20000002, ..., 29999997, 29999998, 29999999],\n",
       "       [30000000, 30000001, 30000002, ..., 39999997, 39999998, 39999999],\n",
       "       [40000000, 40000001, 40000002, ..., 49999997, 49999998, 49999999]])"
      ]
     },
     "execution_count": 7,
     "metadata": {},
     "output_type": "execute_result"
    }
   ],
   "source": [
    "Y = X.reshape(5,-1)\n",
    "Y"
   ]
  },
  {
   "cell_type": "code",
   "execution_count": 8,
   "id": "d1f91fe7-b6ca-4155-b782-9811cf954d8c",
   "metadata": {},
   "outputs": [
    {
     "data": {
      "text/plain": [
       "array([      0,       1,       2, ..., 9999997, 9999998, 9999999])"
      ]
     },
     "execution_count": 8,
     "metadata": {},
     "output_type": "execute_result"
    }
   ],
   "source": [
    "np.min(Y,axis=0)"
   ]
  },
  {
   "cell_type": "code",
   "execution_count": 9,
   "id": "4fdcb034-6e86-4f4b-9045-18483393a018",
   "metadata": {},
   "outputs": [
    {
     "data": {
      "text/plain": [
       "array([       0, 10000000, 20000000, 30000000, 40000000])"
      ]
     },
     "execution_count": 9,
     "metadata": {},
     "output_type": "execute_result"
    }
   ],
   "source": [
    "np.min(Y,axis=1)"
   ]
  },
  {
   "cell_type": "code",
   "execution_count": 11,
   "id": "7bac8bf4-cc21-4ec9-8aa0-6027228f221c",
   "metadata": {},
   "outputs": [],
   "source": [
    "X = np.linspace(1,20,20).reshape(4,5)"
   ]
  },
  {
   "cell_type": "code",
   "execution_count": 12,
   "id": "df834fc6-2a88-47b5-a68a-8d44c4b82f3a",
   "metadata": {},
   "outputs": [
    {
     "data": {
      "text/plain": [
       "array([[ 1.,  2.,  3.,  4.,  5.],\n",
       "       [ 6.,  7.,  8.,  9., 10.],\n",
       "       [11., 12., 13., 14., 15.],\n",
       "       [16., 17., 18., 19., 20.]])"
      ]
     },
     "execution_count": 12,
     "metadata": {},
     "output_type": "execute_result"
    }
   ],
   "source": [
    "X"
   ]
  },
  {
   "cell_type": "code",
   "execution_count": 13,
   "id": "2aeb4d58-928a-4e35-b4d6-de1f0052178f",
   "metadata": {},
   "outputs": [
    {
     "data": {
      "text/plain": [
       "210.0"
      ]
     },
     "execution_count": 13,
     "metadata": {},
     "output_type": "execute_result"
    }
   ],
   "source": [
    "np.sum(X)"
   ]
  },
  {
   "cell_type": "code",
   "execution_count": 14,
   "id": "0ff47799-f34f-404c-bed7-f0b106d2af42",
   "metadata": {},
   "outputs": [
    {
     "data": {
      "text/plain": [
       "array([34., 38., 42., 46., 50.])"
      ]
     },
     "execution_count": 14,
     "metadata": {},
     "output_type": "execute_result"
    }
   ],
   "source": [
    "np.sum(X,axis=0)"
   ]
  },
  {
   "cell_type": "code",
   "execution_count": 15,
   "id": "a1c0da89-cb7e-49e0-8935-c052fe38dcdd",
   "metadata": {},
   "outputs": [
    {
     "data": {
      "text/plain": [
       "array([15., 40., 65., 90.])"
      ]
     },
     "execution_count": 15,
     "metadata": {},
     "output_type": "execute_result"
    }
   ],
   "source": [
    "np.sum(X,axis=1)"
   ]
  },
  {
   "cell_type": "code",
   "execution_count": 16,
   "id": "fa7e0523-f0bd-46ef-961b-f2819a8280ba",
   "metadata": {},
   "outputs": [
    {
     "data": {
      "text/plain": [
       "10.5"
      ]
     },
     "execution_count": 16,
     "metadata": {},
     "output_type": "execute_result"
    }
   ],
   "source": [
    "#求均值\n",
    "np.mean(X)"
   ]
  },
  {
   "cell_type": "code",
   "execution_count": 17,
   "id": "a6c3162c-c6b7-4805-865d-930541adc8ad",
   "metadata": {},
   "outputs": [
    {
     "data": {
      "text/plain": [
       "10.5"
      ]
     },
     "execution_count": 17,
     "metadata": {},
     "output_type": "execute_result"
    }
   ],
   "source": [
    "#求中位数\n",
    "np.median(X)"
   ]
  },
  {
   "cell_type": "code",
   "execution_count": 18,
   "id": "e92328aa-f6f9-458b-a565-0ff2ff9ce5b4",
   "metadata": {},
   "outputs": [
    {
     "data": {
      "text/plain": [
       "5.766281297335398"
      ]
     },
     "execution_count": 18,
     "metadata": {},
     "output_type": "execute_result"
    }
   ],
   "source": [
    "#标准差\n",
    "np.std(X)"
   ]
  },
  {
   "cell_type": "code",
   "execution_count": 19,
   "id": "38a13ca3-f393-4549-bb3b-9b7678b44dd3",
   "metadata": {},
   "outputs": [
    {
     "data": {
      "text/plain": [
       "33.25"
      ]
     },
     "execution_count": 19,
     "metadata": {},
     "output_type": "execute_result"
    }
   ],
   "source": [
    "#方差\n",
    "np.var(X)"
   ]
  },
  {
   "cell_type": "code",
   "execution_count": 20,
   "id": "f701bbe9-10d6-4aea-b952-bc9ac862a2ee",
   "metadata": {},
   "outputs": [
    {
     "data": {
      "text/plain": [
       "(0.019744964632789807, 10.03432637180334)"
      ]
     },
     "execution_count": 20,
     "metadata": {},
     "output_type": "execute_result"
    }
   ],
   "source": [
    "#创建一组 均值为0 标准差为10 10w个数组\n",
    "Z= np.random.normal(0,10,100000)\n",
    "np.mean(Z),np.std(Z)"
   ]
  },
  {
   "cell_type": "code",
   "execution_count": 21,
   "id": "f67e7e66-a8c1-46a6-873d-3ce29c896acd",
   "metadata": {},
   "outputs": [
    {
     "data": {
      "text/plain": [
       "19.0"
      ]
     },
     "execution_count": 21,
     "metadata": {},
     "output_type": "execute_result"
    }
   ],
   "source": [
    "#ptp 表述 数组中的最大值和最小值的差\n",
    "np.ptp(X)"
   ]
  },
  {
   "cell_type": "code",
   "execution_count": 22,
   "id": "b28f4843-6b1a-4f62-815d-08e6b56365e7",
   "metadata": {},
   "outputs": [],
   "source": [
    "q = np.linspace(0,100,5)"
   ]
  },
  {
   "cell_type": "code",
   "execution_count": 23,
   "id": "bc1830d5-d793-49d1-974a-843fefff3a63",
   "metadata": {},
   "outputs": [
    {
     "data": {
      "text/plain": [
       "(array([  0.,  25.,  50.,  75., 100.]),\n",
       " array([ 1.  ,  5.75, 10.5 , 15.25, 20.  ]))"
      ]
     },
     "execution_count": 23,
     "metadata": {},
     "output_type": "execute_result"
    }
   ],
   "source": [
    "#求百分位数 \n",
    "q,np.percentile(X,q)"
   ]
  },
  {
   "cell_type": "code",
   "execution_count": 24,
   "id": "a34ad9e1-5241-41de-ad90-47a732684fbb",
   "metadata": {},
   "outputs": [
    {
     "data": {
      "text/plain": [
       "array([[ 1.,  3.,  6., 10., 15.],\n",
       "       [ 6., 13., 21., 30., 40.],\n",
       "       [11., 23., 36., 50., 65.],\n",
       "       [16., 33., 51., 70., 90.]])"
      ]
     },
     "execution_count": 24,
     "metadata": {},
     "output_type": "execute_result"
    }
   ],
   "source": [
    "#求累加（按行统计）\n",
    "np.cumsum(X,axis=1)"
   ]
  },
  {
   "cell_type": "code",
   "execution_count": 25,
   "id": "7ed2fd91-89a9-413b-9b45-2be0f945ed63",
   "metadata": {},
   "outputs": [
    {
     "data": {
      "text/plain": [
       "array([[1., 1., 1., 1.],\n",
       "       [1., 1., 1., 1.],\n",
       "       [1., 1., 1., 1.],\n",
       "       [1., 1., 1., 1.]])"
      ]
     },
     "execution_count": 25,
     "metadata": {},
     "output_type": "execute_result"
    }
   ],
   "source": [
    "#计算相邻向量之间的差\n",
    "np.diff(X,axis=1)"
   ]
  },
  {
   "cell_type": "code",
   "execution_count": 26,
   "id": "bc1f352e-bd14-4018-854b-76e54524d05e",
   "metadata": {},
   "outputs": [
    {
     "data": {
      "text/plain": [
       "array([1.20000e+02, 3.02400e+04, 3.60360e+05, 1.86048e+06])"
      ]
     },
     "execution_count": 26,
     "metadata": {},
     "output_type": "execute_result"
    }
   ],
   "source": [
    "#按列相乘\n",
    "np.prod(X,axis= 1)"
   ]
  },
  {
   "cell_type": "code",
   "execution_count": null,
   "id": "657acd08-225b-48e4-8d5f-c8fbcd141808",
   "metadata": {},
   "outputs": [],
   "source": []
  }
 ],
 "metadata": {
  "kernelspec": {
   "display_name": "Python 3 (ipykernel)",
   "language": "python",
   "name": "python3"
  },
  "language_info": {
   "codemirror_mode": {
    "name": "ipython",
    "version": 3
   },
   "file_extension": ".py",
   "mimetype": "text/x-python",
   "name": "python",
   "nbconvert_exporter": "python",
   "pygments_lexer": "ipython3",
   "version": "3.11.7"
  }
 },
 "nbformat": 4,
 "nbformat_minor": 5
}
