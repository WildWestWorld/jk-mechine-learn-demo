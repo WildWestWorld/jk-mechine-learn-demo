{
 "cells": [
  {
   "cell_type": "markdown",
   "id": "bcd709d9-02d9-4a13-87ba-96453557d538",
   "metadata": {},
   "source": [
    "### 数据集"
   ]
  },
  {
   "cell_type": "code",
   "execution_count": 1,
   "id": "8f73928b-55a8-4532-8e54-a4440328725d",
   "metadata": {},
   "outputs": [],
   "source": [
    "import numpy as np\n",
    "import matplotlib.pyplot as plt"
   ]
  },
  {
   "cell_type": "code",
   "execution_count": 2,
   "id": "2b6899e7-7368-4b23-be7e-c7981937a5a6",
   "metadata": {},
   "outputs": [],
   "source": [
    "#用于数据集分类\n",
    "from sklearn.model_selection import train_test_split\n",
    "#生成 分类的数据集\n",
    "from sklearn.datasets import make_classification"
   ]
  },
  {
   "cell_type": "code",
   "execution_count": 3,
   "id": "4b976293-c284-4fc3-b980-fe6fbbe45d7a",
   "metadata": {},
   "outputs": [],
   "source": [
    "\n",
    "# - n_samples : 生成的样本数量。\n",
    "# - n_features : 每个样本的特征数量。\n",
    "# - n_redundant : 指定生成的特征中与其他特征线性相关的 冗余特征数量。\n",
    "# - n_classes : 数据集中的类别数量。\n",
    "# - n_clusters_per_class : 每个类中的簇数量，用于生成样本。\n",
    "# - random_state : 随机数种子，用于控制数据集的随机性以便结果可重现。\n",
    "x, y = make_classification(\n",
    "    n_samples=200,\n",
    "    n_features=2,\n",
    "    n_redundant=0,\n",
    "    n_classes=2,\n",
    "    n_clusters_per_class=1,\n",
    "    random_state=1024\n",
    ")"
   ]
  },
  {
   "cell_type": "code",
   "execution_count": 4,
   "id": "e36cf36e-aaba-449d-88ca-3e72e1588865",
   "metadata": {},
   "outputs": [
    {
     "data": {
      "text/plain": [
       "((200, 2), (200,))"
      ]
     },
     "execution_count": 4,
     "metadata": {},
     "output_type": "execute_result"
    }
   ],
   "source": [
    "#x 数据集，有两个特征值  也就是有一个数组有两个参数\n",
    "#y 类别集\n",
    "x.shape,y.shape"
   ]
  },
  {
   "cell_type": "code",
   "execution_count": null,
   "id": "e37a7e33-29c5-4dfb-b33b-384cdd25d926",
   "metadata": {},
   "outputs": [],
   "source": [
    "#stratify=y =>\n",
    "#stratify=y 是 make_classification 函数中的一个参数设置。当将 stratify 参数设置为 y 时，\n",
    "#它可以确保生成的样本在指定的类别 y 中保持均衡分布。这有助于在生成的数据集中保持类别的平衡分布\n",
    "\n",
    "x_train, x_test ,y_train,y_test = train_test_split(x,y,train_size = 0.7,random_state = 233,stratify=y)"
   ]
  },
  {
   "cell_type": "code",
   "execution_count": null,
   "id": "2b57da51-f3be-4962-9cc0-780526233f40",
   "metadata": {},
   "outputs": [],
   "source": [
    "#用x 的第一个特征值 作为 x 第二个特征值作为y  用设置\n",
    "plt.scatter(x_train[:,0], x_train[:,1], c = y_train)\n",
    "plt.show()"
   ]
  }
 ],
 "metadata": {
  "kernelspec": {
   "display_name": "Python 3 (ipykernel)",
   "language": "python",
   "name": "python3"
  },
  "language_info": {
   "codemirror_mode": {
    "name": "ipython",
    "version": 3
   },
   "file_extension": ".py",
   "mimetype": "text/x-python",
   "name": "python",
   "nbconvert_exporter": "python",
   "pygments_lexer": "ipython3",
   "version": "3.11.7"
  }
 },
 "nbformat": 4,
 "nbformat_minor": 5
}
