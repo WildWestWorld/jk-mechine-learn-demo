{
 "cells": [
  {
   "cell_type": "code",
   "execution_count": 3,
   "id": "332a96aa-91f7-4b8f-a341-8cc89c14c9ac",
   "metadata": {},
   "outputs": [],
   "source": [
    "import numpy as np"
   ]
  },
  {
   "cell_type": "code",
   "execution_count": 2,
   "id": "34dcf355-7312-42e7-85f2-9d535926fbe4",
   "metadata": {},
   "outputs": [
    {
     "data": {
      "text/plain": [
       "array([1, 2, 3, 4, 5, 6])"
      ]
     },
     "execution_count": 2,
     "metadata": {},
     "output_type": "execute_result"
    }
   ],
   "source": [
    "a = np.array([1,2,3,4,5,6])\n",
    "a"
   ]
  },
  {
   "cell_type": "code",
   "execution_count": 9,
   "id": "b82779f2-791f-4277-81ef-d39581f4b3aa",
   "metadata": {},
   "outputs": [
    {
     "data": {
      "text/plain": [
       "array([[1, 2, 3],\n",
       "       [4, 5, 6]])"
      ]
     },
     "execution_count": 9,
     "metadata": {},
     "output_type": "execute_result"
    }
   ],
   "source": [
    "A = np.array([\n",
    "    [1,2,3],\n",
    "    [4,5,6]\n",
    "])\n",
    "A"
   ]
  },
  {
   "cell_type": "code",
   "execution_count": 4,
   "id": "2081359f-6fb5-457d-982b-ea4991e04b2e",
   "metadata": {},
   "outputs": [
    {
     "data": {
      "text/plain": [
       "1"
      ]
     },
     "execution_count": 4,
     "metadata": {},
     "output_type": "execute_result"
    }
   ],
   "source": [
    "a.ndim"
   ]
  },
  {
   "cell_type": "code",
   "execution_count": 5,
   "id": "43089988-ad22-4e0c-a693-ce86eac8f90d",
   "metadata": {},
   "outputs": [
    {
     "data": {
      "text/plain": [
       "2"
      ]
     },
     "execution_count": 5,
     "metadata": {},
     "output_type": "execute_result"
    }
   ],
   "source": [
    "A.ndim"
   ]
  },
  {
   "cell_type": "code",
   "execution_count": 6,
   "id": "5a9fc3eb-1509-4218-b336-379d644ae519",
   "metadata": {},
   "outputs": [
    {
     "data": {
      "text/plain": [
       "(6,)"
      ]
     },
     "execution_count": 6,
     "metadata": {},
     "output_type": "execute_result"
    }
   ],
   "source": [
    "a.shape"
   ]
  },
  {
   "cell_type": "code",
   "execution_count": 7,
   "id": "8c07a7c5-afaf-4478-8c25-4bbbd1f75a2e",
   "metadata": {},
   "outputs": [
    {
     "data": {
      "text/plain": [
       "(2, 3)"
      ]
     },
     "execution_count": 7,
     "metadata": {},
     "output_type": "execute_result"
    }
   ],
   "source": [
    "A.shape"
   ]
  },
  {
   "cell_type": "code",
   "execution_count": 8,
   "id": "c73bd66d-9064-460f-86f6-f03a7c493fb7",
   "metadata": {},
   "outputs": [
    {
     "data": {
      "text/plain": [
       "6"
      ]
     },
     "execution_count": 8,
     "metadata": {},
     "output_type": "execute_result"
    }
   ],
   "source": [
    "A.size"
   ]
  },
  {
   "cell_type": "code",
   "execution_count": 9,
   "id": "75534349-c697-4960-86e9-1506168939d6",
   "metadata": {},
   "outputs": [
    {
     "data": {
      "text/plain": [
       "dtype('int32')"
      ]
     },
     "execution_count": 9,
     "metadata": {},
     "output_type": "execute_result"
    }
   ],
   "source": [
    "a.dtype"
   ]
  },
  {
   "cell_type": "code",
   "execution_count": 10,
   "id": "efdfec65-e9d0-47d0-b310-1f0ce0a991b0",
   "metadata": {},
   "outputs": [
    {
     "data": {
      "text/plain": [
       "dtype('int32')"
      ]
     },
     "execution_count": 10,
     "metadata": {},
     "output_type": "execute_result"
    }
   ],
   "source": [
    "A.dtype"
   ]
  },
  {
   "cell_type": "markdown",
   "id": "fc8456a1-104a-4b45-8a5a-fa96036ae64c",
   "metadata": {},
   "source": [
    "#Test"
   ]
  },
  {
   "cell_type": "code",
   "execution_count": 5,
   "id": "5c4aa1ae-f9d2-48d8-92df-1d16fa8c13fa",
   "metadata": {},
   "outputs": [
    {
     "data": {
      "text/plain": [
       "array([1., 1., 1., 1., 1., 1., 1., 1.])"
      ]
     },
     "execution_count": 5,
     "metadata": {},
     "output_type": "execute_result"
    }
   ],
   "source": [
    "np.ones(8)\n",
    "# np 生产出来的是浮点型"
   ]
  },
  {
   "cell_type": "code",
   "execution_count": 4,
   "id": "d35f9944-a690-4b13-86f2-85e451e00166",
   "metadata": {},
   "outputs": [
    {
     "data": {
      "text/plain": [
       "dtype('float64')"
      ]
     },
     "execution_count": 4,
     "metadata": {},
     "output_type": "execute_result"
    }
   ],
   "source": [
    "np.ones(8).dtype"
   ]
  },
  {
   "cell_type": "code",
   "execution_count": 6,
   "id": "1d8d33ac-9d0d-45a5-b17f-91287133729d",
   "metadata": {},
   "outputs": [
    {
     "data": {
      "text/plain": [
       "array([1, 1, 1, 1, 1, 1, 1, 1], dtype=int64)"
      ]
     },
     "execution_count": 6,
     "metadata": {},
     "output_type": "execute_result"
    }
   ],
   "source": [
    "np.ones(8,dtype='int64')"
   ]
  },
  {
   "cell_type": "code",
   "execution_count": 7,
   "id": "d233a3ec-7793-43e7-8f96-66b8f92301a1",
   "metadata": {},
   "outputs": [
    {
     "data": {
      "text/plain": [
       "array([[1., 1., 1., 1.],\n",
       "       [1., 1., 1., 1.]])"
      ]
     },
     "execution_count": 7,
     "metadata": {},
     "output_type": "execute_result"
    }
   ],
   "source": [
    "np.ones(shape=(2,4))"
   ]
  },
  {
   "cell_type": "code",
   "execution_count": 12,
   "id": "e7ce75a4-d02b-4737-8df5-d845d28a0b91",
   "metadata": {},
   "outputs": [
    {
     "data": {
      "text/plain": [
       "array([[1, 1, 1],\n",
       "       [1, 1, 1]])"
      ]
     },
     "execution_count": 12,
     "metadata": {},
     "output_type": "execute_result"
    }
   ],
   "source": [
    "np.ones_like(A)\n",
    "#根据最上面的 自己创建的A数组  A A = np.array([\n",
    "#     [1,2,3],\n",
    "#     [4,5,6]\n",
    "# ])"
   ]
  },
  {
   "cell_type": "code",
   "execution_count": 13,
   "id": "f8383d36-1466-4848-a67e-9c8e1f8d0898",
   "metadata": {},
   "outputs": [
    {
     "data": {
      "text/plain": [
       "array([0., 0., 0., 0., 0., 0., 0., 0.])"
      ]
     },
     "execution_count": 13,
     "metadata": {},
     "output_type": "execute_result"
    }
   ],
   "source": [
    "np.zeros(8)"
   ]
  },
  {
   "cell_type": "code",
   "execution_count": 14,
   "id": "3a32dbe6-9439-430f-81ce-a5135307ca9a",
   "metadata": {},
   "outputs": [
    {
     "data": {
      "text/plain": [
       "array([[0., 0., 0., 0.],\n",
       "       [0., 0., 0., 0.]])"
      ]
     },
     "execution_count": 14,
     "metadata": {},
     "output_type": "execute_result"
    }
   ],
   "source": [
    "np.zeros((2,4))"
   ]
  },
  {
   "cell_type": "code",
   "execution_count": 15,
   "id": "de312311-60f5-4fb1-8179-21dfd2f1d35e",
   "metadata": {},
   "outputs": [
    {
     "data": {
      "text/plain": [
       "array([[0, 0, 0],\n",
       "       [0, 0, 0]])"
      ]
     },
     "execution_count": 15,
     "metadata": {},
     "output_type": "execute_result"
    }
   ],
   "source": [
    "np.zeros_like(A)"
   ]
  },
  {
   "cell_type": "markdown",
   "id": "70cbe685-d2fc-4f72-bdde-b4209b4bba12",
   "metadata": {},
   "source": [
    "#full"
   ]
  },
  {
   "cell_type": "code",
   "execution_count": 16,
   "id": "d81179d2-5398-46eb-b0ac-a3fa06e2aaed",
   "metadata": {},
   "outputs": [
    {
     "data": {
      "text/plain": [
       "array([666, 666, 666, 666, 666, 666, 666, 666])"
      ]
     },
     "execution_count": 16,
     "metadata": {},
     "output_type": "execute_result"
    }
   ],
   "source": [
    "np.full(8,666)"
   ]
  },
  {
   "cell_type": "code",
   "execution_count": 17,
   "id": "40643087-3421-4c1d-ade2-78790a866215",
   "metadata": {},
   "outputs": [
    {
     "data": {
      "text/plain": [
       "array([[666, 666, 666, 666],\n",
       "       [666, 666, 666, 666]])"
      ]
     },
     "execution_count": 17,
     "metadata": {},
     "output_type": "execute_result"
    }
   ],
   "source": [
    "np.full((2,4),666)"
   ]
  },
  {
   "cell_type": "code",
   "execution_count": 18,
   "id": "b745d9f2-326b-43b7-97c8-dfa7636232f3",
   "metadata": {},
   "outputs": [
    {
     "data": {
      "text/plain": [
       "array([[666, 666, 666],\n",
       "       [666, 666, 666]])"
      ]
     },
     "execution_count": 18,
     "metadata": {},
     "output_type": "execute_result"
    }
   ],
   "source": [
    "np.full_like(A,666)"
   ]
  },
  {
   "cell_type": "markdown",
   "id": "058f683e-3846-49b0-90b9-0e70cefadfd0",
   "metadata": {},
   "source": [
    "#empty"
   ]
  },
  {
   "cell_type": "code",
   "execution_count": 19,
   "id": "0160bba2-d9fe-4148-91f5-7727887c45f8",
   "metadata": {},
   "outputs": [
    {
     "data": {
      "text/plain": [
       "array([0., 0., 0., 0., 0., 0., 0., 0.])"
      ]
     },
     "execution_count": 19,
     "metadata": {},
     "output_type": "execute_result"
    }
   ],
   "source": [
    "np.empty(8)"
   ]
  },
  {
   "cell_type": "code",
   "execution_count": 20,
   "id": "6ebaeadd-1313-4b6c-a617-bfa7998d67b3",
   "metadata": {},
   "outputs": [
    {
     "data": {
      "text/plain": [
       "array([[0., 0., 0., 0.],\n",
       "       [0., 0., 0., 0.]])"
      ]
     },
     "execution_count": 20,
     "metadata": {},
     "output_type": "execute_result"
    }
   ],
   "source": [
    "np.empty((2,4))"
   ]
  },
  {
   "cell_type": "code",
   "execution_count": 21,
   "id": "0d202b3b-fe90-4d64-9f63-51552d05e86d",
   "metadata": {},
   "outputs": [
    {
     "data": {
      "text/plain": [
       "array([[-1133177680,         569,           0],\n",
       "       [          0,           1, -2147483648]])"
      ]
     },
     "execution_count": 21,
     "metadata": {},
     "output_type": "execute_result"
    }
   ],
   "source": [
    "np.empty_like(A)"
   ]
  },
  {
   "cell_type": "markdown",
   "id": "91775b8b-7360-40d3-a5f8-60bc00056980",
   "metadata": {},
   "source": [
    "#arange"
   ]
  },
  {
   "cell_type": "code",
   "execution_count": 22,
   "id": "7435f46a-3fc6-42b0-ac68-b78b92ca9e60",
   "metadata": {},
   "outputs": [
    {
     "data": {
      "text/plain": [
       "array([0, 1, 2, 3, 4, 5, 6, 7, 8, 9])"
      ]
     },
     "execution_count": 22,
     "metadata": {},
     "output_type": "execute_result"
    }
   ],
   "source": [
    "np.arange(10)"
   ]
  },
  {
   "cell_type": "code",
   "execution_count": 23,
   "id": "8cf0984a-df18-4737-930c-05fb6878724d",
   "metadata": {},
   "outputs": [
    {
     "data": {
      "text/plain": [
       "array([1, 3, 5, 7, 9])"
      ]
     },
     "execution_count": 23,
     "metadata": {},
     "output_type": "execute_result"
    }
   ],
   "source": [
    "np.arange(1,10,2)"
   ]
  },
  {
   "cell_type": "code",
   "execution_count": 24,
   "id": "0de726fd-6c68-462d-a76f-e533e5cda157",
   "metadata": {},
   "outputs": [
    {
     "data": {
      "text/plain": [
       "array([[0, 1, 2, 3, 4],\n",
       "       [5, 6, 7, 8, 9]])"
      ]
     },
     "execution_count": 24,
     "metadata": {},
     "output_type": "execute_result"
    }
   ],
   "source": [
    "np.arange(10).reshape(2,5)"
   ]
  },
  {
   "cell_type": "markdown",
   "id": "e2acee54-4173-430f-9ba5-d2b21f31d4a1",
   "metadata": {},
   "source": [
    "#linspace #等差数组"
   ]
  },
  {
   "cell_type": "code",
   "execution_count": 25,
   "id": "023c5831-874a-44fc-9159-59d06ee9a058",
   "metadata": {},
   "outputs": [],
   "source": [
    "#等差数组"
   ]
  },
  {
   "cell_type": "code",
   "execution_count": 26,
   "id": "d29d712b-54ed-4d59-a79f-222d8ca34fa4",
   "metadata": {},
   "outputs": [
    {
     "data": {
      "text/plain": [
       "array([ 0. ,  2.5,  5. ,  7.5, 10. ])"
      ]
     },
     "execution_count": 26,
     "metadata": {},
     "output_type": "execute_result"
    }
   ],
   "source": [
    "np.linspace(0,10,5)"
   ]
  },
  {
   "cell_type": "markdown",
   "id": "6b003488-6530-45c4-b2a4-08d3a1d1c4ef",
   "metadata": {},
   "source": [
    "##randpm模块"
   ]
  },
  {
   "cell_type": "code",
   "execution_count": 27,
   "id": "321aa364-bb36-4011-937a-45737d021c95",
   "metadata": {},
   "outputs": [
    {
     "data": {
      "text/plain": [
       "0.4883238828317522"
      ]
     },
     "execution_count": 27,
     "metadata": {},
     "output_type": "execute_result"
    }
   ],
   "source": [
    "np.random.random()"
   ]
  },
  {
   "cell_type": "code",
   "execution_count": 28,
   "id": "cafb42f8-c74c-4f4c-9da6-02e7c81db862",
   "metadata": {},
   "outputs": [
    {
     "data": {
      "text/plain": [
       "array([0.27269542, 0.98997468, 0.07706312, 0.87085444, 0.56468672])"
      ]
     },
     "execution_count": 28,
     "metadata": {},
     "output_type": "execute_result"
    }
   ],
   "source": [
    "np.random.random(5)"
   ]
  },
  {
   "cell_type": "code",
   "execution_count": 29,
   "id": "fb801578-42c6-49dc-9fd1-f3915af7ce9d",
   "metadata": {},
   "outputs": [
    {
     "data": {
      "text/plain": [
       "array([[0.12655214, 0.6774784 , 0.10495708, 0.8092084 ],\n",
       "       [0.94662748, 0.5386948 , 0.1058087 , 0.79549747]])"
      ]
     },
     "execution_count": 29,
     "metadata": {},
     "output_type": "execute_result"
    }
   ],
   "source": [
    "np.random.random((2,4))"
   ]
  },
  {
   "cell_type": "markdown",
   "id": "650ea423-e4b5-45b0-8b4b-f838c92bdc08",
   "metadata": {},
   "source": [
    "#rand"
   ]
  },
  {
   "cell_type": "code",
   "execution_count": 31,
   "id": "964fdd24-5dd0-4607-82cc-b00889beb168",
   "metadata": {},
   "outputs": [
    {
     "data": {
      "text/plain": [
       "0.27541148810904315"
      ]
     },
     "execution_count": 31,
     "metadata": {},
     "output_type": "execute_result"
    }
   ],
   "source": [
    "np.random.rand()"
   ]
  },
  {
   "cell_type": "code",
   "execution_count": 32,
   "id": "bd1d6923-20ca-438c-a862-089c5d4f8ad1",
   "metadata": {},
   "outputs": [
    {
     "data": {
      "text/plain": [
       "array([0.41606539, 0.3073535 , 0.19418563, 0.48105168, 0.85448371])"
      ]
     },
     "execution_count": 32,
     "metadata": {},
     "output_type": "execute_result"
    }
   ],
   "source": [
    "np.random.rand(5)"
   ]
  },
  {
   "cell_type": "code",
   "execution_count": 33,
   "id": "42b1eecc-b1f1-4204-9276-94406c1759d0",
   "metadata": {},
   "outputs": [
    {
     "data": {
      "text/plain": [
       "array([[0.42468676, 0.99369491, 0.66006318],\n",
       "       [0.48393798, 0.53741756, 0.15304838]])"
      ]
     },
     "execution_count": 33,
     "metadata": {},
     "output_type": "execute_result"
    }
   ],
   "source": [
    "np.random.rand(2,3)"
   ]
  },
  {
   "cell_type": "code",
   "execution_count": 34,
   "id": "e1276ddf-8550-4c8a-92f0-fa0179c629d7",
   "metadata": {},
   "outputs": [
    {
     "data": {
      "text/plain": [
       "array([[[0.00443706, 0.40895718, 0.39098715, 0.40957717],\n",
       "        [0.40643308, 0.55035355, 0.16717997, 0.01132442],\n",
       "        [0.06995305, 0.39295499, 0.94652405, 0.68831174]],\n",
       "\n",
       "       [[0.80556187, 0.96706189, 0.08326621, 0.07013722],\n",
       "        [0.1228874 , 0.10685509, 0.95257453, 0.90619816],\n",
       "        [0.85949739, 0.42879781, 0.94247647, 0.22153223]]])"
      ]
     },
     "execution_count": 34,
     "metadata": {},
     "output_type": "execute_result"
    }
   ],
   "source": [
    "np.random.rand(2,3,4)"
   ]
  },
  {
   "cell_type": "markdown",
   "id": "253f3c34-b877-4e27-b885-305242c668f3",
   "metadata": {},
   "source": [
    "#randInt"
   ]
  },
  {
   "cell_type": "code",
   "execution_count": 36,
   "id": "a7350851-e6df-4136-97cb-aacc54c9f87f",
   "metadata": {},
   "outputs": [
    {
     "data": {
      "text/plain": [
       "3"
      ]
     },
     "execution_count": 36,
     "metadata": {},
     "output_type": "execute_result"
    }
   ],
   "source": [
    "np.random.randint(5)"
   ]
  },
  {
   "cell_type": "code",
   "execution_count": 37,
   "id": "c9333d4e-bc3e-4ae7-9cca-97531927425d",
   "metadata": {},
   "outputs": [
    {
     "data": {
      "text/plain": [
       "9"
      ]
     },
     "execution_count": 37,
     "metadata": {},
     "output_type": "execute_result"
    }
   ],
   "source": [
    "np.random.randint(5,10)"
   ]
  },
  {
   "cell_type": "code",
   "execution_count": 4,
   "id": "77315713-6887-4c3d-9dc0-f628d4c86a42",
   "metadata": {},
   "outputs": [
    {
     "data": {
      "text/plain": [
       "array([[7, 9, 5, 9],\n",
       "       [5, 6, 6, 8]])"
      ]
     },
     "execution_count": 4,
     "metadata": {},
     "output_type": "execute_result"
    }
   ],
   "source": [
    "np.random.randint(5,10,size=(2,4))"
   ]
  },
  {
   "cell_type": "markdown",
   "id": "e72a85f4-fa14-4959-990e-973ebcc0a370",
   "metadata": {},
   "source": [
    "#seed"
   ]
  },
  {
   "cell_type": "code",
   "execution_count": 6,
   "id": "9e6a982b-2dfe-4d6f-899f-08463cd47ff8",
   "metadata": {},
   "outputs": [
    {
     "data": {
      "text/plain": [
       "array([[9, 7, 6, 9],\n",
       "       [8, 8, 9, 9]])"
      ]
     },
     "execution_count": 6,
     "metadata": {},
     "output_type": "execute_result"
    }
   ],
   "source": [
    "np.random.seed(666)\n",
    "np.random.randint(5,10,size=(2,4))"
   ]
  },
  {
   "cell_type": "markdown",
   "id": "5e800552-7f20-429c-83e4-1891f77f28ea",
   "metadata": {},
   "source": [
    "#randn"
   ]
  },
  {
   "cell_type": "code",
   "execution_count": 8,
   "id": "13c606c0-16d9-476a-921f-2dfae32d7b17",
   "metadata": {},
   "outputs": [
    {
     "data": {
      "text/plain": [
       "array([ 0.01902826, -0.94376106,  0.64057315, -0.78644317,  0.60886999])"
      ]
     },
     "execution_count": 8,
     "metadata": {},
     "output_type": "execute_result"
    }
   ],
   "source": [
    "np.random.randn(5)"
   ]
  },
  {
   "cell_type": "code",
   "execution_count": 9,
   "id": "63399363-6015-4323-aaab-6dec9ab1d5fb",
   "metadata": {},
   "outputs": [
    {
     "data": {
      "text/plain": [
       "array([[-0.93101185,  0.97822225, -0.73691806, -0.29873262],\n",
       "       [-0.46058737, -1.08879299, -0.57577075, -1.68290077]])"
      ]
     },
     "execution_count": 9,
     "metadata": {},
     "output_type": "execute_result"
    }
   ],
   "source": [
    "np.random.randn(2,4)"
   ]
  },
  {
   "cell_type": "markdown",
   "id": "8310176c-555d-4ad8-8133-7125a4d0bb15",
   "metadata": {},
   "source": [
    "#normal"
   ]
  },
  {
   "cell_type": "code",
   "execution_count": 10,
   "id": "1553a1a5-4fbb-4f86-8516-dee87a8fb99d",
   "metadata": {},
   "outputs": [
    {
     "data": {
      "text/plain": [
       "0.2291852477040214"
      ]
     },
     "execution_count": 10,
     "metadata": {},
     "output_type": "execute_result"
    }
   ],
   "source": [
    "np.random.normal()"
   ]
  },
  {
   "cell_type": "code",
   "execution_count": 11,
   "id": "edf31924-68b6-498d-b5e3-7cab5477b214",
   "metadata": {},
   "outputs": [
    {
     "data": {
      "text/plain": [
       "array([-1746.62522343,   854.63261866,   287.21986341,   862.90153297,\n",
       "         204.59960304,  1320.63771572,  1553.84360007,  -519.04802429,\n",
       "        -646.47229734,  -191.5057011 ,  -690.61583283,   697.13795436,\n",
       "         -16.07575641,  -819.75831975,   306.5537839 ,  -302.67950363,\n",
       "        -601.30127441,  -811.75150479,   907.12270311,   146.0786118 ])"
      ]
     },
     "execution_count": 11,
     "metadata": {},
     "output_type": "execute_result"
    }
   ],
   "source": [
    "np.random.normal(10,1000,20)"
   ]
  },
  {
   "cell_type": "code",
   "execution_count": 12,
   "id": "5c598b67-bec6-4bba-9749-b8fa14b7dd34",
   "metadata": {},
   "outputs": [
    {
     "data": {
      "text/plain": [
       "array([[ -15.86548011,  121.07656409,   -8.84243873,    5.85107071,\n",
       "         -88.47919123, -125.22817585],\n",
       "       [  29.43238455,   36.72393512,  -32.64736981,  154.77350574,\n",
       "          -9.63061002,  161.814514  ],\n",
       "       [  17.72218828,    3.60086759,  104.59234072,  130.40910055,\n",
       "         -35.12407353, -148.74465098],\n",
       "       [-176.88554809,   20.03773732, -299.48705895,  349.35167821,\n",
       "          -2.66687787,  -83.71302591]])"
      ]
     },
     "execution_count": 12,
     "metadata": {},
     "output_type": "execute_result"
    }
   ],
   "source": [
    "np.random.normal(10,100,size=(4,6))"
   ]
  },
  {
   "cell_type": "markdown",
   "id": "69b3e6f3-e969-4285-8bcc-02f42d59d4ec",
   "metadata": {},
   "source": [
    "#uniform  左开右闭"
   ]
  },
  {
   "cell_type": "code",
   "execution_count": 13,
   "id": "dc3c4043-5ae9-4db8-9049-22295e7f2300",
   "metadata": {},
   "outputs": [
    {
     "data": {
      "text/plain": [
       "0.9691891684335366"
      ]
     },
     "execution_count": 13,
     "metadata": {},
     "output_type": "execute_result"
    }
   ],
   "source": [
    "np.random.uniform()"
   ]
  },
  {
   "cell_type": "code",
   "execution_count": 14,
   "id": "b80de821-2ed8-419a-8887-8534b0fb32c4",
   "metadata": {},
   "outputs": [
    {
     "data": {
      "text/plain": [
       "3.9538844862833527"
      ]
     },
     "execution_count": 14,
     "metadata": {},
     "output_type": "execute_result"
    }
   ],
   "source": [
    "np.random.uniform(1,5)"
   ]
  },
  {
   "cell_type": "code",
   "execution_count": 17,
   "id": "55e76bd7-1e62-4be7-92bd-4600cae6d286",
   "metadata": {},
   "outputs": [
    {
     "data": {
      "text/plain": [
       "\u001b[1;31mDocstring:\u001b[0m\n",
       "uniform(low=0.0, high=1.0, size=None)\n",
       "\n",
       "Draw samples from a uniform distribution.\n",
       "\n",
       "Samples are uniformly distributed over the half-open interval\n",
       "``[low, high)`` (includes low, but excludes high).  In other words,\n",
       "any value within the given interval is equally likely to be drawn\n",
       "by `uniform`.\n",
       "\n",
       ".. note::\n",
       "    New code should use the `~numpy.random.Generator.uniform`\n",
       "    method of a `~numpy.random.Generator` instance instead;\n",
       "    please see the :ref:`random-quick-start`.\n",
       "\n",
       "Parameters\n",
       "----------\n",
       "low : float or array_like of floats, optional\n",
       "    Lower boundary of the output interval.  All values generated will be\n",
       "    greater than or equal to low.  The default value is 0.\n",
       "high : float or array_like of floats\n",
       "    Upper boundary of the output interval.  All values generated will be\n",
       "    less than or equal to high.  The high limit may be included in the \n",
       "    returned array of floats due to floating-point rounding in the \n",
       "    equation ``low + (high-low) * random_sample()``.  The default value \n",
       "    is 1.0.\n",
       "size : int or tuple of ints, optional\n",
       "    Output shape.  If the given shape is, e.g., ``(m, n, k)``, then\n",
       "    ``m * n * k`` samples are drawn.  If size is ``None`` (default),\n",
       "    a single value is returned if ``low`` and ``high`` are both scalars.\n",
       "    Otherwise, ``np.broadcast(low, high).size`` samples are drawn.\n",
       "\n",
       "Returns\n",
       "-------\n",
       "out : ndarray or scalar\n",
       "    Drawn samples from the parameterized uniform distribution.\n",
       "\n",
       "See Also\n",
       "--------\n",
       "randint : Discrete uniform distribution, yielding integers.\n",
       "random_integers : Discrete uniform distribution over the closed\n",
       "                  interval ``[low, high]``.\n",
       "random_sample : Floats uniformly distributed over ``[0, 1)``.\n",
       "random : Alias for `random_sample`.\n",
       "rand : Convenience function that accepts dimensions as input, e.g.,\n",
       "       ``rand(2,2)`` would generate a 2-by-2 array of floats,\n",
       "       uniformly distributed over ``[0, 1)``.\n",
       "random.Generator.uniform: which should be used for new code.\n",
       "\n",
       "Notes\n",
       "-----\n",
       "The probability density function of the uniform distribution is\n",
       "\n",
       ".. math:: p(x) = \\frac{1}{b - a}\n",
       "\n",
       "anywhere within the interval ``[a, b)``, and zero elsewhere.\n",
       "\n",
       "When ``high`` == ``low``, values of ``low`` will be returned.\n",
       "If ``high`` < ``low``, the results are officially undefined\n",
       "and may eventually raise an error, i.e. do not rely on this\n",
       "function to behave when passed arguments satisfying that\n",
       "inequality condition. The ``high`` limit may be included in the\n",
       "returned array of floats due to floating-point rounding in the\n",
       "equation ``low + (high-low) * random_sample()``. For example:\n",
       "\n",
       ">>> x = np.float32(5*0.99999999)\n",
       ">>> x\n",
       "5.0\n",
       "\n",
       "\n",
       "Examples\n",
       "--------\n",
       "Draw samples from the distribution:\n",
       "\n",
       ">>> s = np.random.uniform(-1,0,1000)\n",
       "\n",
       "All values are within the given interval:\n",
       "\n",
       ">>> np.all(s >= -1)\n",
       "True\n",
       ">>> np.all(s < 0)\n",
       "True\n",
       "\n",
       "Display the histogram of the samples, along with the\n",
       "probability density function:\n",
       "\n",
       ">>> import matplotlib.pyplot as plt\n",
       ">>> count, bins, ignored = plt.hist(s, 15, density=True)\n",
       ">>> plt.plot(bins, np.ones_like(bins), linewidth=2, color='r')\n",
       ">>> plt.show()\n",
       "\u001b[1;31mType:\u001b[0m      builtin_function_or_method"
      ]
     },
     "metadata": {},
     "output_type": "display_data"
    }
   ],
   "source": [
    "np.random.uniform?"
   ]
  },
  {
   "cell_type": "code",
   "execution_count": null,
   "id": "db5b8cde-5b8f-4193-b803-c0a88931f051",
   "metadata": {},
   "outputs": [],
   "source": []
  }
 ],
 "metadata": {
  "kernelspec": {
   "display_name": "Python 3 (ipykernel)",
   "language": "python",
   "name": "python3"
  },
  "language_info": {
   "codemirror_mode": {
    "name": "ipython",
    "version": 3
   },
   "file_extension": ".py",
   "mimetype": "text/x-python",
   "name": "python",
   "nbconvert_exporter": "python",
   "pygments_lexer": "ipython3",
   "version": "3.11.7"
  }
 },
 "nbformat": 4,
 "nbformat_minor": 5
}
