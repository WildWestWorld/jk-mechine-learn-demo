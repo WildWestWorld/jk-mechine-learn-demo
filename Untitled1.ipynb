{
 "cells": [
  {
   "cell_type": "markdown",
   "id": "c99b2abd-5965-4bec-8052-b5c15e6dac61",
   "metadata": {},
   "source": [
    "#数组合并"
   ]
  },
  {
   "cell_type": "code",
   "execution_count": 1,
   "id": "28cc3c1e-72b8-400a-8b75-826b65bd417b",
   "metadata": {},
   "outputs": [],
   "source": [
    "import numpy as np"
   ]
  },
  {
   "cell_type": "code",
   "execution_count": 2,
   "id": "6ff255c7-57b5-4e39-beb0-f0917e8833fc",
   "metadata": {},
   "outputs": [
    {
     "data": {
      "text/plain": [
       "array([[ 0,  1,  2,  3],\n",
       "       [ 4,  5,  6,  7],\n",
       "       [ 8,  9, 10, 11]])"
      ]
     },
     "execution_count": 2,
     "metadata": {},
     "output_type": "execute_result"
    }
   ],
   "source": [
    "X = np.arange(12).reshape(3,4)\n",
    "X"
   ]
  },
  {
   "cell_type": "code",
   "execution_count": 3,
   "id": "04486bd4-8403-4968-b165-4275724aeb3e",
   "metadata": {},
   "outputs": [
    {
     "data": {
      "text/plain": [
       "array([6, 6, 6, 6])"
      ]
     },
     "execution_count": 3,
     "metadata": {},
     "output_type": "execute_result"
    }
   ],
   "source": [
    "a = np.array([6,6,6,6])\n",
    "a"
   ]
  },
  {
   "cell_type": "code",
   "execution_count": 7,
   "id": "11634d85-82f6-47da-bf7e-23e4835808a7",
   "metadata": {},
   "outputs": [
    {
     "data": {
      "text/plain": [
       "array([[ 0,  1,  2,  3],\n",
       "       [ 4,  5,  6,  7],\n",
       "       [ 8,  9, 10, 11],\n",
       "       [ 6,  6,  6,  6]])"
      ]
     },
     "execution_count": 7,
     "metadata": {},
     "output_type": "execute_result"
    }
   ],
   "source": [
    "#两个数组合并 维度必须一致， X是二维的 a是一维的 \n",
    "#a.reshape(1,4) 可以将 一维的a 变换为一行四列的二维数组\n",
    "#你会发现合并之后，就是在数组的末尾插入了a数组\n",
    "#该方法并不会改变原来数组\n",
    "np.concatenate((X,a.reshape(1,4)))"
   ]
  },
  {
   "cell_type": "code",
   "execution_count": 8,
   "id": "0123a103-88f6-41e3-998c-291d67ce05cc",
   "metadata": {},
   "outputs": [
    {
     "data": {
      "text/plain": [
       "array([[ 0,  1,  2,  3],\n",
       "       [ 4,  5,  6,  7],\n",
       "       [ 8,  9, 10, 11]])"
      ]
     },
     "execution_count": 8,
     "metadata": {},
     "output_type": "execute_result"
    }
   ],
   "source": [
    "X"
   ]
  },
  {
   "cell_type": "code",
   "execution_count": 9,
   "id": "3961858b-cb71-4e94-aab4-bd306f3aaeeb",
   "metadata": {},
   "outputs": [
    {
     "data": {
      "text/plain": [
       "array([6, 6, 6, 6])"
      ]
     },
     "execution_count": 9,
     "metadata": {},
     "output_type": "execute_result"
    }
   ],
   "source": [
    "a"
   ]
  },
  {
   "cell_type": "code",
   "execution_count": 10,
   "id": "24f50d22-b239-443f-ade8-024ac83dd546",
   "metadata": {},
   "outputs": [
    {
     "data": {
      "text/plain": [
       "array([[ 0,  1,  2,  3],\n",
       "       [ 4,  5,  6,  7],\n",
       "       [ 8,  9, 10, 11],\n",
       "       [ 6,  6,  6,  6]])"
      ]
     },
     "execution_count": 10,
     "metadata": {},
     "output_type": "execute_result"
    }
   ],
   "source": [
    "#v 代表向上 vertical   stack代表堆叠 ， vstack就是向上堆叠\n",
    "np.vstack((X,a)) "
   ]
  },
  {
   "cell_type": "code",
   "execution_count": 11,
   "id": "fdb72482-dae7-4635-8f40-591ffa654d5f",
   "metadata": {},
   "outputs": [
    {
     "data": {
      "text/plain": [
       "array([[666, 666],\n",
       "       [666, 666],\n",
       "       [666, 666]])"
      ]
     },
     "execution_count": 11,
     "metadata": {},
     "output_type": "execute_result"
    }
   ],
   "source": [
    "B = np.full((3,2),666)\n",
    "B"
   ]
  },
  {
   "cell_type": "code",
   "execution_count": 13,
   "id": "d02b932c-10e7-40e6-af7a-da26d4a984fe",
   "metadata": {},
   "outputs": [
    {
     "data": {
      "text/plain": [
       "array([[  0,   1,   2,   3, 666, 666],\n",
       "       [  4,   5,   6,   7, 666, 666],\n",
       "       [  8,   9,  10,  11, 666, 666]])"
      ]
     },
     "execution_count": 13,
     "metadata": {},
     "output_type": "execute_result"
    }
   ],
   "source": [
    "#h horizontal  水平   stack 代表堆叠，hstack 就是水平堆叠\n",
    "np.hstack((X,B))"
   ]
  },
  {
   "cell_type": "code",
   "execution_count": 14,
   "id": "646c8a48-1586-4340-90bd-a0a129da9db0",
   "metadata": {},
   "outputs": [
    {
     "data": {
      "text/plain": [
       "array([[  0,   1,   2,   3, 666, 666],\n",
       "       [  4,   5,   6,   7, 666, 666],\n",
       "       [  8,   9,  10,  11, 666, 666]])"
      ]
     },
     "execution_count": 14,
     "metadata": {},
     "output_type": "execute_result"
    }
   ],
   "source": [
    "np.concatenate((X,B),axis=1)"
   ]
  },
  {
   "cell_type": "markdown",
   "id": "34609ad8-bff3-414e-a7ff-a0edb46d0e5b",
   "metadata": {},
   "source": [
    "#数组的拆分"
   ]
  },
  {
   "cell_type": "code",
   "execution_count": 15,
   "id": "76ef950a-c47f-4c6c-8b7f-02f317131a3a",
   "metadata": {},
   "outputs": [
    {
     "data": {
      "text/plain": [
       "array([[ 0,  1,  2,  3],\n",
       "       [ 4,  5,  6,  7],\n",
       "       [ 8,  9, 10, 11]])"
      ]
     },
     "execution_count": 15,
     "metadata": {},
     "output_type": "execute_result"
    }
   ],
   "source": [
    "X"
   ]
  },
  {
   "cell_type": "code",
   "execution_count": 17,
   "id": "a50fe38c-8d93-443f-a0eb-b7e396e625a1",
   "metadata": {},
   "outputs": [
    {
     "data": {
      "text/plain": [
       "[array([[0, 1, 2, 3],\n",
       "        [4, 5, 6, 7]]),\n",
       " array([[ 8,  9, 10, 11]])]"
      ]
     },
     "execution_count": 17,
     "metadata": {},
     "output_type": "execute_result"
    }
   ],
   "source": [
    "#axis 拆分的方向 \n",
    "np.split(X,[-1],axis=0)"
   ]
  },
  {
   "cell_type": "code",
   "execution_count": 19,
   "id": "b4d4ff1c-a082-4349-99ef-52c56314c7ef",
   "metadata": {},
   "outputs": [],
   "source": [
    "X1,X2 = np.split(X,[-1],axis=1)"
   ]
  },
  {
   "cell_type": "code",
   "execution_count": 20,
   "id": "9dab13df-79c4-4946-828c-41eb1d05f475",
   "metadata": {},
   "outputs": [
    {
     "data": {
      "text/plain": [
       "(array([[ 0,  1,  2],\n",
       "        [ 4,  5,  6],\n",
       "        [ 8,  9, 10]]),\n",
       " array([[ 3],\n",
       "        [ 7],\n",
       "        [11]]))"
      ]
     },
     "execution_count": 20,
     "metadata": {},
     "output_type": "execute_result"
    }
   ],
   "source": [
    "X1,X2"
   ]
  },
  {
   "cell_type": "code",
   "execution_count": 21,
   "id": "3c35bc12-c5f6-4252-9874-79a7dc5ee499",
   "metadata": {},
   "outputs": [
    {
     "data": {
      "text/plain": [
       "[array([[0, 1, 2, 3],\n",
       "        [4, 5, 6, 7]]),\n",
       " array([[ 8,  9, 10, 11]])]"
      ]
     },
     "execution_count": 21,
     "metadata": {},
     "output_type": "execute_result"
    }
   ],
   "source": [
    "#[2] => [0:2] =>[2:]\n",
    "np.vsplit(X,[2])"
   ]
  },
  {
   "cell_type": "code",
   "execution_count": 22,
   "id": "f71dcea0-e9c2-47f3-a19c-e992caf0e60f",
   "metadata": {},
   "outputs": [
    {
     "data": {
      "text/plain": [
       "[array([[0],\n",
       "        [4],\n",
       "        [8]]),\n",
       " array([[ 1,  2],\n",
       "        [ 5,  6],\n",
       "        [ 9, 10]]),\n",
       " array([[ 3],\n",
       "        [ 7],\n",
       "        [11]])]"
      ]
     },
     "execution_count": 22,
     "metadata": {},
     "output_type": "execute_result"
    }
   ],
   "source": [
    "#[1,3]=>[0:1] [1:3] [3:]\n",
    "np.hsplit(X,[1,3])"
   ]
  },
  {
   "cell_type": "code",
   "execution_count": 23,
   "id": "f31df019-ddf0-4277-ae2e-cc4a2e8e74a6",
   "metadata": {},
   "outputs": [],
   "source": [
    "X1,X2,X3 = np.hsplit(X,[1,3])"
   ]
  },
  {
   "cell_type": "code",
   "execution_count": 24,
   "id": "743134db-0c60-45c1-a351-00ee58e1ff32",
   "metadata": {},
   "outputs": [
    {
     "data": {
      "text/plain": [
       "(array([[0],\n",
       "        [4],\n",
       "        [8]]),\n",
       " array([[ 1,  2],\n",
       "        [ 5,  6],\n",
       "        [ 9, 10]]),\n",
       " array([[ 3],\n",
       "        [ 7],\n",
       "        [11]]))"
      ]
     },
     "execution_count": 24,
     "metadata": {},
     "output_type": "execute_result"
    }
   ],
   "source": [
    "X1,X2,X3"
   ]
  },
  {
   "cell_type": "code",
   "execution_count": 25,
   "id": "ecee93e6-8353-417f-8b2e-ae27c4631d6d",
   "metadata": {},
   "outputs": [
    {
     "data": {
      "text/plain": [
       "array([[0],\n",
       "       [4],\n",
       "       [8]])"
      ]
     },
     "execution_count": 25,
     "metadata": {},
     "output_type": "execute_result"
    }
   ],
   "source": [
    "X1"
   ]
  },
  {
   "cell_type": "code",
   "execution_count": 26,
   "id": "f41bf166-eef9-4a4d-9528-6143db2969a7",
   "metadata": {},
   "outputs": [
    {
     "data": {
      "text/plain": [
       "array([[ 1,  2],\n",
       "       [ 5,  6],\n",
       "       [ 9, 10]])"
      ]
     },
     "execution_count": 26,
     "metadata": {},
     "output_type": "execute_result"
    }
   ],
   "source": [
    "X2"
   ]
  },
  {
   "cell_type": "code",
   "execution_count": 27,
   "id": "ac06f856-b9d6-4dd9-af74-fc41f3b981b4",
   "metadata": {},
   "outputs": [
    {
     "data": {
      "text/plain": [
       "array([[ 3],\n",
       "       [ 7],\n",
       "       [11]])"
      ]
     },
     "execution_count": 27,
     "metadata": {},
     "output_type": "execute_result"
    }
   ],
   "source": [
    "X3"
   ]
  },
  {
   "cell_type": "code",
   "execution_count": null,
   "id": "84b1998d-475d-489a-bda3-2b084180bc77",
   "metadata": {},
   "outputs": [],
   "source": []
  }
 ],
 "metadata": {
  "kernelspec": {
   "display_name": "Python 3 (ipykernel)",
   "language": "python",
   "name": "python3"
  },
  "language_info": {
   "codemirror_mode": {
    "name": "ipython",
    "version": 3
   },
   "file_extension": ".py",
   "mimetype": "text/x-python",
   "name": "python",
   "nbconvert_exporter": "python",
   "pygments_lexer": "ipython3",
   "version": "3.11.7"
  }
 },
 "nbformat": 4,
 "nbformat_minor": 5
}
